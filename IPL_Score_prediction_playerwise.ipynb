{
  "nbformat": 4,
  "nbformat_minor": 0,
  "metadata": {
    "kernelspec": {
      "display_name": "Python 3",
      "language": "python",
      "name": "python3"
    },
    "language_info": {
      "codemirror_mode": {
        "name": "ipython",
        "version": 3
      },
      "file_extension": ".py",
      "mimetype": "text/x-python",
      "name": "python",
      "nbconvert_exporter": "python",
      "pygments_lexer": "ipython3",
      "version": "3.7.1"
    },
    "colab": {
      "name": "IPL_Score_prediction - playerwise.ipynb",
      "provenance": [],
      "collapsed_sections": [],
      "include_colab_link": true
    }
  },
  "cells": [
    {
      "cell_type": "markdown",
      "metadata": {
        "id": "view-in-github",
        "colab_type": "text"
      },
      "source": [
        "<a href=\"https://colab.research.google.com/github/PRITI1999/final-year/blob/master/IPL_Score_prediction_playerwise.ipynb\" target=\"_parent\"><img src=\"https://colab.research.google.com/assets/colab-badge.svg\" alt=\"Open In Colab\"/></a>"
      ]
    },
    {
      "cell_type": "code",
      "metadata": {
        "id": "zMVuCuvrqgAB"
      },
      "source": [
        "import pandas as pd\n",
        "import numpy as np\n",
        "from sklearn.metrics import mean_absolute_error as mae, mean_squared_error as mse\n"
      ],
      "execution_count": null,
      "outputs": []
    },
    {
      "cell_type": "markdown",
      "metadata": {
        "id": "5ugwXLusmULt"
      },
      "source": [
        "\n",
        "**TODO**\n",
        "\n",
        "WE can try the same method with the over by over approach as well \n",
        "\n",
        "So that when we feed the model with final inputs we can feed the first 10 overs as well\n"
      ]
    },
    {
      "cell_type": "markdown",
      "metadata": {
        "id": "9SBAzOGw3w8F"
      },
      "source": [
        "taks done- \n",
        "After feature engineering , we have the following data on which we are trying to predict the score \n"
      ]
    },
    {
      "cell_type": "code",
      "metadata": {
        "id": "cEGFJZlBqgAG"
      },
      "source": [
        "data = pd.read_csv('final_data.csv')"
      ],
      "execution_count": null,
      "outputs": []
    },
    {
      "cell_type": "code",
      "metadata": {
        "colab": {
          "base_uri": "https://localhost:8080/",
          "height": 408
        },
        "id": "jmFQLyTmqgAH",
        "outputId": "4f862924-2489-4621-b8da-9ea1ee9e3fbe"
      },
      "source": [
        "data.head()"
      ],
      "execution_count": null,
      "outputs": [
        {
          "output_type": "execute_result",
          "data": {
            "text/html": [
              "<div>\n",
              "<style scoped>\n",
              "    .dataframe tbody tr th:only-of-type {\n",
              "        vertical-align: middle;\n",
              "    }\n",
              "\n",
              "    .dataframe tbody tr th {\n",
              "        vertical-align: top;\n",
              "    }\n",
              "\n",
              "    .dataframe thead th {\n",
              "        text-align: right;\n",
              "    }\n",
              "</style>\n",
              "<table border=\"1\" class=\"dataframe\">\n",
              "  <thead>\n",
              "    <tr style=\"text-align: right;\">\n",
              "      <th></th>\n",
              "      <th>Unnamed: 0</th>\n",
              "      <th>id</th>\n",
              "      <th>innings_number</th>\n",
              "      <th>over</th>\n",
              "      <th>ball</th>\n",
              "      <th>batsman</th>\n",
              "      <th>non_striker</th>\n",
              "      <th>bowler</th>\n",
              "      <th>extra_runs</th>\n",
              "      <th>total_runs</th>\n",
              "      <th>non_boundary</th>\n",
              "      <th>is_wicket</th>\n",
              "      <th>batting_team</th>\n",
              "      <th>bowling_team</th>\n",
              "      <th>batsman_runs</th>\n",
              "      <th>balls_faced</th>\n",
              "      <th>strike_rate</th>\n",
              "      <th>Boundary Fours</th>\n",
              "      <th>Boundary Sixes</th>\n",
              "      <th>50s</th>\n",
              "      <th>100s</th>\n",
              "      <th>overs</th>\n",
              "      <th>runs_conceded</th>\n",
              "      <th>wickets_taken</th>\n",
              "      <th>economy_rate</th>\n",
              "    </tr>\n",
              "  </thead>\n",
              "  <tbody>\n",
              "    <tr>\n",
              "      <th>0</th>\n",
              "      <td>0</td>\n",
              "      <td>335982</td>\n",
              "      <td>1</td>\n",
              "      <td>6</td>\n",
              "      <td>5</td>\n",
              "      <td>RT Ponting</td>\n",
              "      <td>BB McCullum</td>\n",
              "      <td>AA Noffke</td>\n",
              "      <td>0</td>\n",
              "      <td>1</td>\n",
              "      <td>0</td>\n",
              "      <td>0</td>\n",
              "      <td>Kolkata Knight Riders</td>\n",
              "      <td>Royal Challengers Bangalore</td>\n",
              "      <td>20</td>\n",
              "      <td>19</td>\n",
              "      <td>105.26</td>\n",
              "      <td>1.0</td>\n",
              "      <td>1.0</td>\n",
              "      <td>0</td>\n",
              "      <td>0</td>\n",
              "      <td>3.0</td>\n",
              "      <td>41</td>\n",
              "      <td>1.0</td>\n",
              "      <td>10.7</td>\n",
              "    </tr>\n",
              "    <tr>\n",
              "      <th>1</th>\n",
              "      <td>1</td>\n",
              "      <td>335982</td>\n",
              "      <td>1</td>\n",
              "      <td>6</td>\n",
              "      <td>2</td>\n",
              "      <td>RT Ponting</td>\n",
              "      <td>BB McCullum</td>\n",
              "      <td>AA Noffke</td>\n",
              "      <td>0</td>\n",
              "      <td>1</td>\n",
              "      <td>0</td>\n",
              "      <td>0</td>\n",
              "      <td>Kolkata Knight Riders</td>\n",
              "      <td>Royal Challengers Bangalore</td>\n",
              "      <td>20</td>\n",
              "      <td>19</td>\n",
              "      <td>105.26</td>\n",
              "      <td>1.0</td>\n",
              "      <td>1.0</td>\n",
              "      <td>0</td>\n",
              "      <td>0</td>\n",
              "      <td>3.0</td>\n",
              "      <td>41</td>\n",
              "      <td>1.0</td>\n",
              "      <td>10.7</td>\n",
              "    </tr>\n",
              "    <tr>\n",
              "      <th>2</th>\n",
              "      <td>2</td>\n",
              "      <td>335982</td>\n",
              "      <td>1</td>\n",
              "      <td>6</td>\n",
              "      <td>4</td>\n",
              "      <td>RT Ponting</td>\n",
              "      <td>BB McCullum</td>\n",
              "      <td>AA Noffke</td>\n",
              "      <td>0</td>\n",
              "      <td>2</td>\n",
              "      <td>0</td>\n",
              "      <td>0</td>\n",
              "      <td>Kolkata Knight Riders</td>\n",
              "      <td>Royal Challengers Bangalore</td>\n",
              "      <td>20</td>\n",
              "      <td>19</td>\n",
              "      <td>105.26</td>\n",
              "      <td>1.0</td>\n",
              "      <td>1.0</td>\n",
              "      <td>0</td>\n",
              "      <td>0</td>\n",
              "      <td>3.0</td>\n",
              "      <td>41</td>\n",
              "      <td>1.0</td>\n",
              "      <td>10.7</td>\n",
              "    </tr>\n",
              "    <tr>\n",
              "      <th>3</th>\n",
              "      <td>3</td>\n",
              "      <td>335982</td>\n",
              "      <td>1</td>\n",
              "      <td>6</td>\n",
              "      <td>6</td>\n",
              "      <td>BB McCullum</td>\n",
              "      <td>RT Ponting</td>\n",
              "      <td>AA Noffke</td>\n",
              "      <td>0</td>\n",
              "      <td>1</td>\n",
              "      <td>0</td>\n",
              "      <td>0</td>\n",
              "      <td>Kolkata Knight Riders</td>\n",
              "      <td>Royal Challengers Bangalore</td>\n",
              "      <td>158</td>\n",
              "      <td>71</td>\n",
              "      <td>222.54</td>\n",
              "      <td>10.0</td>\n",
              "      <td>13.0</td>\n",
              "      <td>0</td>\n",
              "      <td>1</td>\n",
              "      <td>3.0</td>\n",
              "      <td>41</td>\n",
              "      <td>1.0</td>\n",
              "      <td>10.7</td>\n",
              "    </tr>\n",
              "    <tr>\n",
              "      <th>4</th>\n",
              "      <td>4</td>\n",
              "      <td>335982</td>\n",
              "      <td>1</td>\n",
              "      <td>15</td>\n",
              "      <td>3</td>\n",
              "      <td>BB McCullum</td>\n",
              "      <td>DJ Hussey</td>\n",
              "      <td>AA Noffke</td>\n",
              "      <td>0</td>\n",
              "      <td>2</td>\n",
              "      <td>0</td>\n",
              "      <td>0</td>\n",
              "      <td>Kolkata Knight Riders</td>\n",
              "      <td>Royal Challengers Bangalore</td>\n",
              "      <td>158</td>\n",
              "      <td>71</td>\n",
              "      <td>222.54</td>\n",
              "      <td>10.0</td>\n",
              "      <td>13.0</td>\n",
              "      <td>0</td>\n",
              "      <td>1</td>\n",
              "      <td>3.0</td>\n",
              "      <td>41</td>\n",
              "      <td>1.0</td>\n",
              "      <td>10.7</td>\n",
              "    </tr>\n",
              "  </tbody>\n",
              "</table>\n",
              "</div>"
            ],
            "text/plain": [
              "   Unnamed: 0      id  ...  wickets_taken  economy_rate\n",
              "0           0  335982  ...            1.0          10.7\n",
              "1           1  335982  ...            1.0          10.7\n",
              "2           2  335982  ...            1.0          10.7\n",
              "3           3  335982  ...            1.0          10.7\n",
              "4           4  335982  ...            1.0          10.7\n",
              "\n",
              "[5 rows x 25 columns]"
            ]
          },
          "metadata": {
            "tags": []
          },
          "execution_count": 3
        }
      ]
    },
    {
      "cell_type": "markdown",
      "metadata": {
        "id": "2ODJ3ji9K_Jo"
      },
      "source": [
        "TOSS , TOTAL SCORE UPTO N-TH BALL ARE SOME IMP FTS that we need to integrate \n"
      ]
    },
    {
      "cell_type": "code",
      "metadata": {
        "colab": {
          "base_uri": "https://localhost:8080/"
        },
        "id": "A4wGHVtjqgAM",
        "outputId": "f5c59c59-f0d3-4b40-c238-a4dd5cd4a658"
      },
      "source": [
        "data.columns"
      ],
      "execution_count": null,
      "outputs": [
        {
          "output_type": "execute_result",
          "data": {
            "text/plain": [
              "Index(['Unnamed: 0', 'id', 'innings_number', 'over', 'ball', 'batsman',\n",
              "       'non_striker', 'bowler', 'extra_runs', 'total_runs', 'non_boundary',\n",
              "       'is_wicket', 'batting_team', 'bowling_team', 'batsman_runs',\n",
              "       'balls_faced', 'strike_rate', 'Boundary Fours', 'Boundary Sixes', '50s',\n",
              "       '100s', 'overs', 'runs_conceded', 'wickets_taken', 'economy_rate'],\n",
              "      dtype='object')"
            ]
          },
          "metadata": {
            "tags": []
          },
          "execution_count": 4
        }
      ]
    },
    {
      "cell_type": "code",
      "metadata": {
        "id": "cQm4Q9DWqgAN"
      },
      "source": [
        "irrelevant = ['Unnamed: 0','batting_team', 'bowling_team','bowler','batsman','non_striker']\n",
        "data.drop(irrelevant, axis=1,inplace = True)\n",
        "#'id', 'innings_number',"
      ],
      "execution_count": null,
      "outputs": []
    },
    {
      "cell_type": "code",
      "metadata": {
        "id": "l1FYJdHbiGLP"
      },
      "source": [
        ""
      ],
      "execution_count": null,
      "outputs": []
    },
    {
      "cell_type": "code",
      "metadata": {
        "id": "lcWHi6GOqgAO"
      },
      "source": [
        "data['ball_number'] = data['over']*6 + data['ball']\n",
        "data.drop(['ball','over'],1,inplace = True)"
      ],
      "execution_count": null,
      "outputs": []
    },
    {
      "cell_type": "code",
      "metadata": {
        "id": "-h8mhliNpaz5"
      },
      "source": [
        "data = data.dropna()"
      ],
      "execution_count": null,
      "outputs": []
    },
    {
      "cell_type": "code",
      "metadata": {
        "id": "vUnTYxXwKjJt"
      },
      "source": [
        "import seaborn as sns \n",
        "#sns.pairplot(data)"
      ],
      "execution_count": null,
      "outputs": []
    },
    {
      "cell_type": "code",
      "metadata": {
        "colab": {
          "base_uri": "https://localhost:8080/",
          "height": 282
        },
        "id": "r0_CYaNiKvvn",
        "outputId": "a8a9e757-9e53-4334-911e-2816a66872c2"
      },
      "source": [
        "data.extra_runs.hist()"
      ],
      "execution_count": null,
      "outputs": [
        {
          "output_type": "execute_result",
          "data": {
            "text/plain": [
              "<matplotlib.axes._subplots.AxesSubplot at 0x7fe17d7d9dd0>"
            ]
          },
          "metadata": {
            "tags": []
          },
          "execution_count": 9
        },
        {
          "output_type": "display_data",
          "data": {
            "image/png": "[encoded data removed]",
            "text/plain": [
              "<Figure size 432x288 with 1 Axes>"
            ]
          },
          "metadata": {
            "tags": [],
            "needs_background": "light"
          }
        }
      ]
    },
    {
      "cell_type": "code",
      "metadata": {
        "colab": {
          "base_uri": "https://localhost:8080/",
          "height": 484
        },
        "id": "sJJGAOt8LNgo",
        "outputId": "9e33fbb4-e221-458b-c93b-56e8c01909b7"
      },
      "source": [
        "data.sort_values('ball_number').groupby(['id','innings_number']).sum()\n"
      ],
      "execution_count": null,
      "outputs": [
        {
          "output_type": "execute_result",
          "data": {
            "text/html": [
              "<div>\n",
              "<style scoped>\n",
              "    .dataframe tbody tr th:only-of-type {\n",
              "        vertical-align: middle;\n",
              "    }\n",
              "\n",
              "    .dataframe tbody tr th {\n",
              "        vertical-align: top;\n",
              "    }\n",
              "\n",
              "    .dataframe thead th {\n",
              "        text-align: right;\n",
              "    }\n",
              "</style>\n",
              "<table border=\"1\" class=\"dataframe\">\n",
              "  <thead>\n",
              "    <tr style=\"text-align: right;\">\n",
              "      <th></th>\n",
              "      <th></th>\n",
              "      <th>extra_runs</th>\n",
              "      <th>total_runs</th>\n",
              "      <th>non_boundary</th>\n",
              "      <th>is_wicket</th>\n",
              "      <th>batsman_runs</th>\n",
              "      <th>balls_faced</th>\n",
              "      <th>strike_rate</th>\n",
              "      <th>Boundary Fours</th>\n",
              "      <th>Boundary Sixes</th>\n",
              "      <th>50s</th>\n",
              "      <th>100s</th>\n",
              "      <th>overs</th>\n",
              "      <th>runs_conceded</th>\n",
              "      <th>wickets_taken</th>\n",
              "      <th>economy_rate</th>\n",
              "      <th>ball_number</th>\n",
              "    </tr>\n",
              "    <tr>\n",
              "      <th>id</th>\n",
              "      <th>innings_number</th>\n",
              "      <th></th>\n",
              "      <th></th>\n",
              "      <th></th>\n",
              "      <th></th>\n",
              "      <th></th>\n",
              "      <th></th>\n",
              "      <th></th>\n",
              "      <th></th>\n",
              "      <th></th>\n",
              "      <th></th>\n",
              "      <th></th>\n",
              "      <th></th>\n",
              "      <th></th>\n",
              "      <th></th>\n",
              "      <th></th>\n",
              "      <th></th>\n",
              "    </tr>\n",
              "  </thead>\n",
              "  <tbody>\n",
              "    <tr>\n",
              "      <th rowspan=\"2\" valign=\"top\">335982</th>\n",
              "      <th>1</th>\n",
              "      <td>17</td>\n",
              "      <td>222</td>\n",
              "      <td>0</td>\n",
              "      <td>3</td>\n",
              "      <td>12845</td>\n",
              "      <td>6120</td>\n",
              "      <td>22140.79</td>\n",
              "      <td>829.0</td>\n",
              "      <td>1021.0</td>\n",
              "      <td>0</td>\n",
              "      <td>77</td>\n",
              "      <td>382.0</td>\n",
              "      <td>4898</td>\n",
              "      <td>74.0</td>\n",
              "      <td>1451.56</td>\n",
              "      <td>7462</td>\n",
              "    </tr>\n",
              "    <tr>\n",
              "      <th>2</th>\n",
              "      <td>19</td>\n",
              "      <td>82</td>\n",
              "      <td>0</td>\n",
              "      <td>10</td>\n",
              "      <td>774</td>\n",
              "      <td>1004</td>\n",
              "      <td>7629.64</td>\n",
              "      <td>40.0</td>\n",
              "      <td>41.0</td>\n",
              "      <td>0</td>\n",
              "      <td>0</td>\n",
              "      <td>294.0</td>\n",
              "      <td>1810</td>\n",
              "      <td>202.0</td>\n",
              "      <td>583.16</td>\n",
              "      <td>4733</td>\n",
              "    </tr>\n",
              "    <tr>\n",
              "      <th rowspan=\"2\" valign=\"top\">335983</th>\n",
              "      <th>1</th>\n",
              "      <td>6</td>\n",
              "      <td>240</td>\n",
              "      <td>0</td>\n",
              "      <td>5</td>\n",
              "      <td>7885</td>\n",
              "      <td>3724</td>\n",
              "      <td>24478.50</td>\n",
              "      <td>603.0</td>\n",
              "      <td>584.0</td>\n",
              "      <td>0</td>\n",
              "      <td>54</td>\n",
              "      <td>358.0</td>\n",
              "      <td>4739</td>\n",
              "      <td>111.0</td>\n",
              "      <td>1508.64</td>\n",
              "      <td>7451</td>\n",
              "    </tr>\n",
              "    <tr>\n",
              "      <th>2</th>\n",
              "      <td>11</td>\n",
              "      <td>207</td>\n",
              "      <td>0</td>\n",
              "      <td>4</td>\n",
              "      <td>5455</td>\n",
              "      <td>2984</td>\n",
              "      <td>21291.46</td>\n",
              "      <td>568.0</td>\n",
              "      <td>235.0</td>\n",
              "      <td>69</td>\n",
              "      <td>0</td>\n",
              "      <td>421.0</td>\n",
              "      <td>5136</td>\n",
              "      <td>100.0</td>\n",
              "      <td>1354.86</td>\n",
              "      <td>7475</td>\n",
              "    </tr>\n",
              "    <tr>\n",
              "      <th>335984</th>\n",
              "      <th>1</th>\n",
              "      <td>7</td>\n",
              "      <td>129</td>\n",
              "      <td>0</td>\n",
              "      <td>8</td>\n",
              "      <td>2056</td>\n",
              "      <td>1871</td>\n",
              "      <td>12778.54</td>\n",
              "      <td>224.0</td>\n",
              "      <td>61.0</td>\n",
              "      <td>0</td>\n",
              "      <td>0</td>\n",
              "      <td>439.0</td>\n",
              "      <td>3135</td>\n",
              "      <td>147.0</td>\n",
              "      <td>800.75</td>\n",
              "      <td>7346</td>\n",
              "    </tr>\n",
              "    <tr>\n",
              "      <th>...</th>\n",
              "      <th>...</th>\n",
              "      <td>...</td>\n",
              "      <td>...</td>\n",
              "      <td>...</td>\n",
              "      <td>...</td>\n",
              "      <td>...</td>\n",
              "      <td>...</td>\n",
              "      <td>...</td>\n",
              "      <td>...</td>\n",
              "      <td>...</td>\n",
              "      <td>...</td>\n",
              "      <td>...</td>\n",
              "      <td>...</td>\n",
              "      <td>...</td>\n",
              "      <td>...</td>\n",
              "      <td>...</td>\n",
              "      <td>...</td>\n",
              "    </tr>\n",
              "    <tr>\n",
              "      <th>1237178</th>\n",
              "      <th>2</th>\n",
              "      <td>10</td>\n",
              "      <td>132</td>\n",
              "      <td>0</td>\n",
              "      <td>4</td>\n",
              "      <td>3686</td>\n",
              "      <td>3266</td>\n",
              "      <td>12998.42</td>\n",
              "      <td>273.0</td>\n",
              "      <td>113.0</td>\n",
              "      <td>45</td>\n",
              "      <td>0</td>\n",
              "      <td>381.0</td>\n",
              "      <td>2788</td>\n",
              "      <td>103.0</td>\n",
              "      <td>850.40</td>\n",
              "      <td>7165</td>\n",
              "    </tr>\n",
              "    <tr>\n",
              "      <th rowspan=\"2\" valign=\"top\">1237180</th>\n",
              "      <th>1</th>\n",
              "      <td>8</td>\n",
              "      <td>189</td>\n",
              "      <td>1</td>\n",
              "      <td>3</td>\n",
              "      <td>6417</td>\n",
              "      <td>4063</td>\n",
              "      <td>19422.48</td>\n",
              "      <td>554.0</td>\n",
              "      <td>203.0</td>\n",
              "      <td>51</td>\n",
              "      <td>0</td>\n",
              "      <td>447.0</td>\n",
              "      <td>4736</td>\n",
              "      <td>72.0</td>\n",
              "      <td>1218.57</td>\n",
              "      <td>7613</td>\n",
              "    </tr>\n",
              "    <tr>\n",
              "      <th>2</th>\n",
              "      <td>6</td>\n",
              "      <td>172</td>\n",
              "      <td>0</td>\n",
              "      <td>8</td>\n",
              "      <td>4410</td>\n",
              "      <td>2998</td>\n",
              "      <td>17290.60</td>\n",
              "      <td>329.0</td>\n",
              "      <td>249.0</td>\n",
              "      <td>46</td>\n",
              "      <td>0</td>\n",
              "      <td>417.0</td>\n",
              "      <td>3752</td>\n",
              "      <td>185.0</td>\n",
              "      <td>1091.23</td>\n",
              "      <td>7488</td>\n",
              "    </tr>\n",
              "    <tr>\n",
              "      <th rowspan=\"2\" valign=\"top\">1237181</th>\n",
              "      <th>1</th>\n",
              "      <td>4</td>\n",
              "      <td>156</td>\n",
              "      <td>0</td>\n",
              "      <td>7</td>\n",
              "      <td>5864</td>\n",
              "      <td>4311</td>\n",
              "      <td>15759.89</td>\n",
              "      <td>519.0</td>\n",
              "      <td>182.0</td>\n",
              "      <td>91</td>\n",
              "      <td>0</td>\n",
              "      <td>428.0</td>\n",
              "      <td>3402</td>\n",
              "      <td>146.0</td>\n",
              "      <td>973.93</td>\n",
              "      <td>7509</td>\n",
              "    </tr>\n",
              "    <tr>\n",
              "      <th>2</th>\n",
              "      <td>4</td>\n",
              "      <td>157</td>\n",
              "      <td>0</td>\n",
              "      <td>5</td>\n",
              "      <td>4767</td>\n",
              "      <td>3536</td>\n",
              "      <td>15481.59</td>\n",
              "      <td>376.0</td>\n",
              "      <td>255.0</td>\n",
              "      <td>51</td>\n",
              "      <td>0</td>\n",
              "      <td>338.0</td>\n",
              "      <td>2902</td>\n",
              "      <td>62.0</td>\n",
              "      <td>954.92</td>\n",
              "      <td>6328</td>\n",
              "    </tr>\n",
              "  </tbody>\n",
              "</table>\n",
              "<p>1630 rows × 16 columns</p>\n",
              "</div>"
            ],
            "text/plain": [
              "                        extra_runs  total_runs  ...  economy_rate  ball_number\n",
              "id      innings_number                          ...                           \n",
              "335982  1                       17         222  ...       1451.56         7462\n",
              "        2                       19          82  ...        583.16         4733\n",
              "335983  1                        6         240  ...       1508.64         7451\n",
              "        2                       11         207  ...       1354.86         7475\n",
              "335984  1                        7         129  ...        800.75         7346\n",
              "...                            ...         ...  ...           ...          ...\n",
              "1237178 2                       10         132  ...        850.40         7165\n",
              "1237180 1                        8         189  ...       1218.57         7613\n",
              "        2                        6         172  ...       1091.23         7488\n",
              "1237181 1                        4         156  ...        973.93         7509\n",
              "        2                        4         157  ...        954.92         6328\n",
              "\n",
              "[1630 rows x 16 columns]"
            ]
          },
          "metadata": {
            "tags": []
          },
          "execution_count": 10
        }
      ]
    },
    {
      "cell_type": "code",
      "metadata": {
        "colab": {
          "base_uri": "https://localhost:8080/"
        },
        "id": "ohPy5Nt3VC4b",
        "outputId": "99dadd5e-26b9-47aa-9bca-b74b67d60e01"
      },
      "source": [
        "for ele in data.sort_values('ball_number').groupby(['id','innings_number']):\n",
        "  print(ele[1])\n",
        "  check = ele[1]\n",
        "  #sorted ball wise data for each innings \n",
        "  check['score'] = check['total_runs'].cumsum()\n",
        "  break"
      ],
      "execution_count": null,
      "outputs": [
        {
          "output_type": "stream",
          "text": [
            "         id  innings_number  ...  economy_rate  ball_number\n",
            "116  335982               1  ...         11.71            1\n",
            "102  335982               1  ...         11.71            2\n",
            "103  335982               1  ...         11.71            3\n",
            "104  335982               1  ...         11.71            4\n",
            "105  335982               1  ...         11.71            5\n",
            "..      ...             ...  ...           ...          ...\n",
            "100  335982               1  ...         11.71          116\n",
            "101  335982               1  ...         11.71          117\n",
            "113  335982               1  ...         11.71          118\n",
            "114  335982               1  ...         11.71          119\n",
            "115  335982               1  ...         11.71          120\n",
            "\n",
            "[124 rows x 18 columns]\n"
          ],
          "name": "stdout"
        }
      ]
    },
    {
      "cell_type": "code",
      "metadata": {
        "colab": {
          "base_uri": "https://localhost:8080/"
        },
        "id": "ATkKt7mGLNpk",
        "outputId": "e3ebb7b3-0d3d-4106-f226-b5bcee0ca8ef"
      },
      "source": [
        "check.sum()"
      ],
      "execution_count": null,
      "outputs": [
        {
          "output_type": "execute_result",
          "data": {
            "text/plain": [
              "id                41661768.00\n",
              "innings_number         124.00\n",
              "extra_runs              17.00\n",
              "total_runs             222.00\n",
              "non_boundary             0.00\n",
              "is_wicket                3.00\n",
              "batsman_runs         12845.00\n",
              "balls_faced           6120.00\n",
              "strike_rate          22140.79\n",
              "Boundary Fours         829.00\n",
              "Boundary Sixes        1021.00\n",
              "50s                      0.00\n",
              "100s                    77.00\n",
              "overs                  382.00\n",
              "runs_conceded         4898.00\n",
              "wickets_taken           74.00\n",
              "economy_rate          1451.56\n",
              "ball_number           7462.00\n",
              "score                12220.00\n",
              "dtype: float64"
            ]
          },
          "metadata": {
            "tags": []
          },
          "execution_count": 12
        }
      ]
    },
    {
      "cell_type": "code",
      "metadata": {
        "id": "UUhzqRcZWOKI"
      },
      "source": [
        "check\n",
        "models = dict()"
      ],
      "execution_count": null,
      "outputs": []
    },
    {
      "cell_type": "code",
      "metadata": {
        "id": "Xqna84LuWx_9"
      },
      "source": [
        "data = data.sort_values('ball_number')\n",
        "score = data.groupby(['id','innings_number'])['total_runs'].cumsum()"
      ],
      "execution_count": null,
      "outputs": []
    },
    {
      "cell_type": "code",
      "metadata": {
        "colab": {
          "base_uri": "https://localhost:8080/",
          "height": 454
        },
        "id": "ZFYVGqc2Xaj2",
        "outputId": "8d85a11b-f16f-4786-aea9-666a5ca8bddf"
      },
      "source": [
        "data['score'] = score\n",
        "data"
      ],
      "execution_count": null,
      "outputs": [
        {
          "output_type": "execute_result",
          "data": {
            "text/html": [
              "<div>\n",
              "<style scoped>\n",
              "    .dataframe tbody tr th:only-of-type {\n",
              "        vertical-align: middle;\n",
              "    }\n",
              "\n",
              "    .dataframe tbody tr th {\n",
              "        vertical-align: top;\n",
              "    }\n",
              "\n",
              "    .dataframe thead th {\n",
              "        text-align: right;\n",
              "    }\n",
              "</style>\n",
              "<table border=\"1\" class=\"dataframe\">\n",
              "  <thead>\n",
              "    <tr style=\"text-align: right;\">\n",
              "      <th></th>\n",
              "      <th>id</th>\n",
              "      <th>innings_number</th>\n",
              "      <th>extra_runs</th>\n",
              "      <th>total_runs</th>\n",
              "      <th>non_boundary</th>\n",
              "      <th>is_wicket</th>\n",
              "      <th>batsman_runs</th>\n",
              "      <th>balls_faced</th>\n",
              "      <th>strike_rate</th>\n",
              "      <th>Boundary Fours</th>\n",
              "      <th>Boundary Sixes</th>\n",
              "      <th>50s</th>\n",
              "      <th>100s</th>\n",
              "      <th>overs</th>\n",
              "      <th>runs_conceded</th>\n",
              "      <th>wickets_taken</th>\n",
              "      <th>economy_rate</th>\n",
              "      <th>ball_number</th>\n",
              "      <th>score</th>\n",
              "    </tr>\n",
              "  </thead>\n",
              "  <tbody>\n",
              "    <tr>\n",
              "      <th>107574</th>\n",
              "      <td>734041</td>\n",
              "      <td>1</td>\n",
              "      <td>0</td>\n",
              "      <td>1</td>\n",
              "      <td>0</td>\n",
              "      <td>0</td>\n",
              "      <td>8</td>\n",
              "      <td>17</td>\n",
              "      <td>47.06</td>\n",
              "      <td>1.0</td>\n",
              "      <td>0.0</td>\n",
              "      <td>0</td>\n",
              "      <td>0</td>\n",
              "      <td>1.0</td>\n",
              "      <td>15</td>\n",
              "      <td>0.0</td>\n",
              "      <td>8.18</td>\n",
              "      <td>1</td>\n",
              "      <td>1</td>\n",
              "    </tr>\n",
              "    <tr>\n",
              "      <th>96883</th>\n",
              "      <td>729299</td>\n",
              "      <td>1</td>\n",
              "      <td>0</td>\n",
              "      <td>0</td>\n",
              "      <td>0</td>\n",
              "      <td>0</td>\n",
              "      <td>43</td>\n",
              "      <td>42</td>\n",
              "      <td>102.38</td>\n",
              "      <td>2.0</td>\n",
              "      <td>1.0</td>\n",
              "      <td>0</td>\n",
              "      <td>0</td>\n",
              "      <td>3.0</td>\n",
              "      <td>35</td>\n",
              "      <td>2.0</td>\n",
              "      <td>9.55</td>\n",
              "      <td>1</td>\n",
              "      <td>0</td>\n",
              "    </tr>\n",
              "    <tr>\n",
              "      <th>150633</th>\n",
              "      <td>1136562</td>\n",
              "      <td>1</td>\n",
              "      <td>0</td>\n",
              "      <td>1</td>\n",
              "      <td>0</td>\n",
              "      <td>0</td>\n",
              "      <td>4</td>\n",
              "      <td>6</td>\n",
              "      <td>66.67</td>\n",
              "      <td>0.0</td>\n",
              "      <td>0.0</td>\n",
              "      <td>0</td>\n",
              "      <td>0</td>\n",
              "      <td>4.0</td>\n",
              "      <td>23</td>\n",
              "      <td>1.0</td>\n",
              "      <td>5.75</td>\n",
              "      <td>1</td>\n",
              "      <td>1</td>\n",
              "    </tr>\n",
              "    <tr>\n",
              "      <th>150717</th>\n",
              "      <td>1136562</td>\n",
              "      <td>2</td>\n",
              "      <td>0</td>\n",
              "      <td>0</td>\n",
              "      <td>0</td>\n",
              "      <td>0</td>\n",
              "      <td>51</td>\n",
              "      <td>16</td>\n",
              "      <td>318.75</td>\n",
              "      <td>6.0</td>\n",
              "      <td>4.0</td>\n",
              "      <td>1</td>\n",
              "      <td>0</td>\n",
              "      <td>3.0</td>\n",
              "      <td>34</td>\n",
              "      <td>1.0</td>\n",
              "      <td>8.87</td>\n",
              "      <td>1</td>\n",
              "      <td>0</td>\n",
              "    </tr>\n",
              "    <tr>\n",
              "      <th>3110</th>\n",
              "      <td>335995</td>\n",
              "      <td>2</td>\n",
              "      <td>0</td>\n",
              "      <td>1</td>\n",
              "      <td>0</td>\n",
              "      <td>0</td>\n",
              "      <td>1</td>\n",
              "      <td>3</td>\n",
              "      <td>33.33</td>\n",
              "      <td>0.0</td>\n",
              "      <td>0.0</td>\n",
              "      <td>0</td>\n",
              "      <td>0</td>\n",
              "      <td>3.0</td>\n",
              "      <td>31</td>\n",
              "      <td>1.0</td>\n",
              "      <td>8.45</td>\n",
              "      <td>1</td>\n",
              "      <td>1</td>\n",
              "    </tr>\n",
              "    <tr>\n",
              "      <th>...</th>\n",
              "      <td>...</td>\n",
              "      <td>...</td>\n",
              "      <td>...</td>\n",
              "      <td>...</td>\n",
              "      <td>...</td>\n",
              "      <td>...</td>\n",
              "      <td>...</td>\n",
              "      <td>...</td>\n",
              "      <td>...</td>\n",
              "      <td>...</td>\n",
              "      <td>...</td>\n",
              "      <td>...</td>\n",
              "      <td>...</td>\n",
              "      <td>...</td>\n",
              "      <td>...</td>\n",
              "      <td>...</td>\n",
              "      <td>...</td>\n",
              "      <td>...</td>\n",
              "      <td>...</td>\n",
              "    </tr>\n",
              "    <tr>\n",
              "      <th>121609</th>\n",
              "      <td>829817</td>\n",
              "      <td>1</td>\n",
              "      <td>0</td>\n",
              "      <td>1</td>\n",
              "      <td>0</td>\n",
              "      <td>0</td>\n",
              "      <td>1</td>\n",
              "      <td>1</td>\n",
              "      <td>100.00</td>\n",
              "      <td>0.0</td>\n",
              "      <td>0.0</td>\n",
              "      <td>0</td>\n",
              "      <td>0</td>\n",
              "      <td>4.0</td>\n",
              "      <td>40</td>\n",
              "      <td>3.0</td>\n",
              "      <td>10.00</td>\n",
              "      <td>123</td>\n",
              "      <td>187</td>\n",
              "    </tr>\n",
              "    <tr>\n",
              "      <th>94072</th>\n",
              "      <td>598072</td>\n",
              "      <td>1</td>\n",
              "      <td>0</td>\n",
              "      <td>0</td>\n",
              "      <td>0</td>\n",
              "      <td>0</td>\n",
              "      <td>19</td>\n",
              "      <td>19</td>\n",
              "      <td>100.00</td>\n",
              "      <td>2.0</td>\n",
              "      <td>0.0</td>\n",
              "      <td>0</td>\n",
              "      <td>0</td>\n",
              "      <td>4.0</td>\n",
              "      <td>43</td>\n",
              "      <td>1.0</td>\n",
              "      <td>10.75</td>\n",
              "      <td>123</td>\n",
              "      <td>165</td>\n",
              "    </tr>\n",
              "    <tr>\n",
              "      <th>153651</th>\n",
              "      <td>1136575</td>\n",
              "      <td>1</td>\n",
              "      <td>0</td>\n",
              "      <td>0</td>\n",
              "      <td>0</td>\n",
              "      <td>0</td>\n",
              "      <td>24</td>\n",
              "      <td>17</td>\n",
              "      <td>141.18</td>\n",
              "      <td>2.0</td>\n",
              "      <td>0.0</td>\n",
              "      <td>0</td>\n",
              "      <td>0</td>\n",
              "      <td>4.0</td>\n",
              "      <td>40</td>\n",
              "      <td>1.0</td>\n",
              "      <td>10.00</td>\n",
              "      <td>123</td>\n",
              "      <td>160</td>\n",
              "    </tr>\n",
              "    <tr>\n",
              "      <th>179922</th>\n",
              "      <td>1216496</td>\n",
              "      <td>1</td>\n",
              "      <td>0</td>\n",
              "      <td>1</td>\n",
              "      <td>0</td>\n",
              "      <td>0</td>\n",
              "      <td>27</td>\n",
              "      <td>6</td>\n",
              "      <td>450.00</td>\n",
              "      <td>0.0</td>\n",
              "      <td>4.0</td>\n",
              "      <td>0</td>\n",
              "      <td>0</td>\n",
              "      <td>4.0</td>\n",
              "      <td>56</td>\n",
              "      <td>1.0</td>\n",
              "      <td>14.00</td>\n",
              "      <td>123</td>\n",
              "      <td>216</td>\n",
              "    </tr>\n",
              "    <tr>\n",
              "      <th>8557</th>\n",
              "      <td>336018</td>\n",
              "      <td>1</td>\n",
              "      <td>0</td>\n",
              "      <td>0</td>\n",
              "      <td>0</td>\n",
              "      <td>1</td>\n",
              "      <td>5</td>\n",
              "      <td>4</td>\n",
              "      <td>125.00</td>\n",
              "      <td>1.0</td>\n",
              "      <td>0.0</td>\n",
              "      <td>0</td>\n",
              "      <td>0</td>\n",
              "      <td>4.0</td>\n",
              "      <td>33</td>\n",
              "      <td>3.0</td>\n",
              "      <td>8.25</td>\n",
              "      <td>123</td>\n",
              "      <td>156</td>\n",
              "    </tr>\n",
              "  </tbody>\n",
              "</table>\n",
              "<p>193424 rows × 19 columns</p>\n",
              "</div>"
            ],
            "text/plain": [
              "             id  innings_number  extra_runs  ...  economy_rate  ball_number  score\n",
              "107574   734041               1           0  ...          8.18            1      1\n",
              "96883    729299               1           0  ...          9.55            1      0\n",
              "150633  1136562               1           0  ...          5.75            1      1\n",
              "150717  1136562               2           0  ...          8.87            1      0\n",
              "3110     335995               2           0  ...          8.45            1      1\n",
              "...         ...             ...         ...  ...           ...          ...    ...\n",
              "121609   829817               1           0  ...         10.00          123    187\n",
              "94072    598072               1           0  ...         10.75          123    165\n",
              "153651  1136575               1           0  ...         10.00          123    160\n",
              "179922  1216496               1           0  ...         14.00          123    216\n",
              "8557     336018               1           0  ...          8.25          123    156\n",
              "\n",
              "[193424 rows x 19 columns]"
            ]
          },
          "metadata": {
            "tags": []
          },
          "execution_count": 15
        }
      ]
    },
    {
      "cell_type": "code",
      "metadata": {
        "colab": {
          "base_uri": "https://localhost:8080/"
        },
        "id": "4gjD0J_6Xo6R",
        "outputId": "c906f58a-df9c-4712-d8c5-0c0a5e28a75f"
      },
      "source": [
        "data.groupby(['id','innings_number'])['score'].max()"
      ],
      "execution_count": null,
      "outputs": [
        {
          "output_type": "execute_result",
          "data": {
            "text/plain": [
              "id       innings_number\n",
              "335982   1                 222\n",
              "         2                  82\n",
              "335983   1                 240\n",
              "         2                 207\n",
              "335984   1                 129\n",
              "                          ... \n",
              "1237178  2                 132\n",
              "1237180  1                 189\n",
              "         2                 172\n",
              "1237181  1                 156\n",
              "         2                 157\n",
              "Name: score, Length: 1630, dtype: int64"
            ]
          },
          "metadata": {
            "tags": []
          },
          "execution_count": 16
        }
      ]
    },
    {
      "cell_type": "code",
      "metadata": {
        "id": "GlQs5SwOBL6L"
      },
      "source": [
        "data.drop(['id','innings_number'],1,inplace = True)"
      ],
      "execution_count": null,
      "outputs": []
    },
    {
      "cell_type": "code",
      "metadata": {
        "scrolled": true,
        "id": "Nq4zcrbeqgAQ",
        "colab": {
          "base_uri": "https://localhost:8080/",
          "height": 356
        },
        "outputId": "8cd1ba58-80ca-470d-ced5-db85b3d153e9"
      },
      "source": [
        "from seaborn import heatmap\n",
        "heatmap(data=data.corr(), annot=True)"
      ],
      "execution_count": null,
      "outputs": [
        {
          "output_type": "execute_result",
          "data": {
            "text/plain": [
              "<matplotlib.axes._subplots.AxesSubplot at 0x7fe18d88ec50>"
            ]
          },
          "metadata": {
            "tags": []
          },
          "execution_count": 18
        },
        {
          "output_type": "display_data",
          "data": {
            "image/png": "[encoded data removed]",
            "text/plain": [
              "<Figure size 432x288 with 2 Axes>"
            ]
          },
          "metadata": {
            "tags": [],
            "needs_background": "light"
          }
        }
      ]
    },
    {
      "cell_type": "code",
      "metadata": {
        "id": "-mBIk9Z63oKu"
      },
      "source": [
        "data.drop(['extra_runs', 'non_boundary','is_wicket','runs_conceded','batsman_runs'],1,inplace = True)"
      ],
      "execution_count": null,
      "outputs": []
    },
    {
      "cell_type": "code",
      "metadata": {
        "id": "iV-iRkJs46pL"
      },
      "source": [
        "data.drop(['overs'],1,inplace = True)"
      ],
      "execution_count": null,
      "outputs": []
    },
    {
      "cell_type": "code",
      "metadata": {
        "id": "C6gQn7p0qgAQ"
      },
      "source": [
        "features = data.drop(['score'], axis=1)\n",
        "labels = data['score']"
      ],
      "execution_count": null,
      "outputs": []
    },
    {
      "cell_type": "code",
      "metadata": {
        "id": "Sa4Hf3-5qgAR"
      },
      "source": [
        "from sklearn.model_selection import train_test_split\n",
        "train_features, test_features, train_labels, test_labels = train_test_split(features, labels, test_size=0.30, shuffle=True)"
      ],
      "execution_count": null,
      "outputs": []
    },
    {
      "cell_type": "code",
      "metadata": {
        "colab": {
          "base_uri": "https://localhost:8080/"
        },
        "id": "hZbohTQG37aH",
        "outputId": "f5fc1a33-e589-40ea-86d8-15587f077800"
      },
      "source": [
        "features.columns"
      ],
      "execution_count": null,
      "outputs": [
        {
          "output_type": "execute_result",
          "data": {
            "text/plain": [
              "Index(['total_runs', 'balls_faced', 'strike_rate', 'Boundary Fours',\n",
              "       'Boundary Sixes', '50s', '100s', 'wickets_taken', 'economy_rate',\n",
              "       'ball_number'],\n",
              "      dtype='object')"
            ]
          },
          "metadata": {
            "tags": []
          },
          "execution_count": 51
        }
      ]
    },
    {
      "cell_type": "code",
      "metadata": {
        "id": "um1-l18J57JL"
      },
      "source": [
        "from sklearn.metrics import accuracy_score, mean_squared_error\n",
        "from sklearn.ensemble import RandomForestRegressor\n",
        "model = RandomForestRegressor()\n",
        "model.fit(train_features, train_labels)\n",
        "y_pred = model.predict(test_features)"
      ],
      "execution_count": null,
      "outputs": []
    },
    {
      "cell_type": "code",
      "metadata": {
        "colab": {
          "base_uri": "https://localhost:8080/"
        },
        "id": "QXextQLA0L2H",
        "outputId": "46a40ae4-2692-4bf1-dae4-39e41df42cf6"
      },
      "source": [
        "test_score_forest = str(model.score(test_features, test_labels) * 100)\n",
        "print(test_score_forest)"
      ],
      "execution_count": null,
      "outputs": [
        {
          "output_type": "stream",
          "text": [
            "95.53704708046149\n"
          ],
          "name": "stdout"
        }
      ]
    },
    {
      "cell_type": "code",
      "metadata": {
        "colab": {
          "base_uri": "https://localhost:8080/",
          "height": 297
        },
        "id": "i3dnA7XR57Nq",
        "outputId": "a0e15eab-fdc4-4ffc-ceb6-d232bb871fce"
      },
      "source": [
        "sns.histplot(test_labels)"
      ],
      "execution_count": null,
      "outputs": [
        {
          "output_type": "execute_result",
          "data": {
            "text/plain": [
              "<matplotlib.axes._subplots.AxesSubplot at 0x7fe16f84a550>"
            ]
          },
          "metadata": {
            "tags": []
          },
          "execution_count": 27
        },
        {
          "output_type": "display_data",
          "data": {
            "image/png": "[encoded data removed]",
            "text/plain": [
              "<Figure size 432x288 with 1 Axes>"
            ]
          },
          "metadata": {
            "tags": [],
            "needs_background": "light"
          }
        }
      ]
    },
    {
      "cell_type": "code",
      "metadata": {
        "colab": {
          "base_uri": "https://localhost:8080/",
          "height": 282
        },
        "id": "XvnTIKVqYqKD",
        "outputId": "c168f829-73f8-4492-caab-a9b501bca0d6"
      },
      "source": [
        "sns.histplot(y_pred)"
      ],
      "execution_count": null,
      "outputs": [
        {
          "output_type": "execute_result",
          "data": {
            "text/plain": [
              "<matplotlib.axes._subplots.AxesSubplot at 0x7fe16f8c7910>"
            ]
          },
          "metadata": {
            "tags": []
          },
          "execution_count": 28
        },
        {
          "output_type": "display_data",
          "data": {
            "image/png": "[encoded data removed]",
            "text/plain": [
              "<Figure size 432x288 with 1 Axes>"
            ]
          },
          "metadata": {
            "tags": [],
            "needs_background": "light"
          }
        }
      ]
    },
    {
      "cell_type": "code",
      "metadata": {
        "colab": {
          "base_uri": "https://localhost:8080/"
        },
        "id": "EI66WCpDBlhe",
        "outputId": "da284df3-023f-49b5-a6f2-c38761a8ab28"
      },
      "source": [
        "for i in range(10):\n",
        "  print(int(round(y_pred[i])))"
      ],
      "execution_count": null,
      "outputs": [
        {
          "output_type": "stream",
          "text": [
            "103\n",
            "54\n",
            "148\n",
            "14\n",
            "32\n",
            "79\n",
            "69\n",
            "56\n",
            "117\n",
            "130\n"
          ],
          "name": "stdout"
        }
      ]
    },
    {
      "cell_type": "code",
      "metadata": {
        "id": "-b3Icu1-Y6WM",
        "colab": {
          "base_uri": "https://localhost:8080/"
        },
        "outputId": "5a3314c4-3c6a-4be5-b6b2-c9776d30fbb1"
      },
      "source": [
        "mae(test_labels, y_pred)"
      ],
      "execution_count": null,
      "outputs": [
        {
          "output_type": "execute_result",
          "data": {
            "text/plain": [
              "7.072522370563308"
            ]
          },
          "metadata": {
            "tags": []
          },
          "execution_count": 31
        }
      ]
    },
    {
      "cell_type": "code",
      "metadata": {
        "id": "nSYcGKurZJWP",
        "colab": {
          "base_uri": "https://localhost:8080/"
        },
        "outputId": "ec231e86-a247-4319-d254-ff6b2308a292"
      },
      "source": [
        "mse(test_labels,y_pred )"
      ],
      "execution_count": null,
      "outputs": [
        {
          "output_type": "execute_result",
          "data": {
            "text/plain": [
              "99.95229011361849"
            ]
          },
          "metadata": {
            "tags": []
          },
          "execution_count": 32
        }
      ]
    },
    {
      "cell_type": "markdown",
      "metadata": {
        "id": "xLoV-kSN_9Rc"
      },
      "source": [
        "modelling\n"
      ]
    },
    {
      "cell_type": "code",
      "metadata": {
        "colab": {
          "base_uri": "https://localhost:8080/"
        },
        "id": "L8Ilh2TnqgAS",
        "outputId": "0b8ceb0c-ab11-445b-c469-37a55795cda1"
      },
      "source": [
        "#Decision Tree\n",
        "from sklearn.tree import DecisionTreeRegressor\n",
        "tree = DecisionTreeRegressor()\n",
        "tree.fit(train_features, train_labels)"
      ],
      "execution_count": null,
      "outputs": [
        {
          "output_type": "execute_result",
          "data": {
            "text/plain": [
              "DecisionTreeRegressor(ccp_alpha=0.0, criterion='mse', max_depth=None,\n",
              "                      max_features=None, max_leaf_nodes=None,\n",
              "                      min_impurity_decrease=0.0, min_impurity_split=None,\n",
              "                      min_samples_leaf=1, min_samples_split=2,\n",
              "                      min_weight_fraction_leaf=0.0, presort='deprecated',\n",
              "                      random_state=None, splitter='best')"
            ]
          },
          "metadata": {
            "tags": []
          },
          "execution_count": 55
        }
      ]
    },
    {
      "cell_type": "code",
      "metadata": {
        "colab": {
          "base_uri": "https://localhost:8080/"
        },
        "id": "2lYS9tmEqgAT",
        "outputId": "65fa1371-2d46-464d-df43-9b7dc2689d12"
      },
      "source": [
        "train_score_tree = str(tree.score(train_features, train_labels) * 100)\n",
        "test_score_tree = str(tree.score(test_features, test_labels) * 100)\n",
        "print(f'Train Score : {train_score_tree[:5]}%\\nTest Score : {test_score_tree[:5]}%')\n",
        "models[\"tree\"] = test_score_tree"
      ],
      "execution_count": null,
      "outputs": [
        {
          "output_type": "stream",
          "text": [
            "Train Score : 99.99%\n",
            "Test Score : 91.19%\n"
          ],
          "name": "stdout"
        }
      ]
    },
    {
      "cell_type": "code",
      "metadata": {
        "colab": {
          "base_uri": "https://localhost:8080/"
        },
        "id": "HWAfBfp7qgAT",
        "outputId": "02dbb9f6-35b1-4bbc-a6e2-945a5c18ff64"
      },
      "source": [
        "print(\"---- Decision Tree Regressor - Model Evaluation ----\")\n",
        "print(\"Mean Absolute Error (MAE): {}\".format(mae(test_labels, tree.predict(test_features))))\n",
        "print(\"Mean Squared Error (MSE): {}\".format(mse(test_labels, tree.predict(test_features))))\n",
        "print(\"Root Mean Squared Error (RMSE): {}\".format(np.sqrt(mse(test_labels, tree.predict(test_features)))))"
      ],
      "execution_count": null,
      "outputs": [
        {
          "output_type": "stream",
          "text": [
            "---- Decision Tree Regressor - Model Evaluation ----\n",
            "Mean Absolute Error (MAE): 8.591990073757497\n",
            "Mean Squared Error (MSE): 202.23053525884055\n",
            "Root Mean Squared Error (RMSE): 14.220778293006347\n"
          ],
          "name": "stdout"
        }
      ]
    },
    {
      "cell_type": "code",
      "metadata": {
        "colab": {
          "base_uri": "https://localhost:8080/"
        },
        "id": "f35kH7rmqgAU",
        "outputId": "7e0d85ca-78ca-443f-c667-ca1d5cc60fe7"
      },
      "source": [
        "#Linear Regression\n",
        "from sklearn.linear_model import LinearRegression\n",
        "linreg = LinearRegression()\n",
        "linreg.fit(train_features, train_labels)"
      ],
      "execution_count": null,
      "outputs": [
        {
          "output_type": "execute_result",
          "data": {
            "text/plain": [
              "LinearRegression(copy_X=True, fit_intercept=True, n_jobs=None, normalize=False)"
            ]
          },
          "metadata": {
            "tags": []
          },
          "execution_count": 36
        }
      ]
    },
    {
      "cell_type": "code",
      "metadata": {
        "colab": {
          "base_uri": "https://localhost:8080/"
        },
        "id": "n3E1T8KmqgAU",
        "outputId": "b04c5780-27ba-4d1a-d517-fd3a05ef9345"
      },
      "source": [
        "train_score_linreg = str(linreg.score(train_features, train_labels) * 100)\n",
        "test_score_linreg = str(linreg.score(test_features, test_labels) * 100)\n",
        "print(f'Train Score : {train_score_linreg[:5]}%\\nTest Score : {test_score_linreg[:5]}%')\n",
        "models[\"linreg\"] = test_score_linreg"
      ],
      "execution_count": null,
      "outputs": [
        {
          "output_type": "stream",
          "text": [
            "Train Score : 90.80%\n",
            "Test Score : 90.78%\n"
          ],
          "name": "stdout"
        }
      ]
    },
    {
      "cell_type": "code",
      "metadata": {
        "colab": {
          "base_uri": "https://localhost:8080/"
        },
        "id": "epCdRSxxqgAV",
        "outputId": "82a99fdb-27cf-466e-e072-62f3d5dd1720"
      },
      "source": [
        "print(\"---- Linear Regression - Model Evaluation ----\")\n",
        "print(\"Mean Absolute Error (MAE): {}\".format(mae(test_labels, linreg.predict(test_features))))\n",
        "print(\"Mean Squared Error (MSE): {}\".format(mse(test_labels, linreg.predict(test_features))))\n",
        "print(\"Root Mean Squared Error (RMSE): {}\".format(np.sqrt(mse(test_labels, linreg.predict(test_features)))))"
      ],
      "execution_count": null,
      "outputs": [
        {
          "output_type": "stream",
          "text": [
            "---- Linear Regression - Model Evaluation ----\n",
            "Mean Absolute Error (MAE): 10.815192506542305\n",
            "Mean Squared Error (MSE): 210.36481820154367\n",
            "Root Mean Squared Error (RMSE): 14.503958707937073\n"
          ],
          "name": "stdout"
        }
      ]
    },
    {
      "cell_type": "code",
      "metadata": {
        "colab": {
          "base_uri": "https://localhost:8080/"
        },
        "id": "OF-WCEKbqgAW",
        "outputId": "e6216a8f-a862-4448-e7c4-a8672659a4f1"
      },
      "source": [
        "#Random Forest\n",
        "from sklearn.ensemble import RandomForestRegressor\n",
        "forest = RandomForestRegressor()\n",
        "forest.fit(train_features, train_labels)"
      ],
      "execution_count": null,
      "outputs": [
        {
          "output_type": "execute_result",
          "data": {
            "text/plain": [
              "RandomForestRegressor(bootstrap=True, ccp_alpha=0.0, criterion='mse',\n",
              "                      max_depth=None, max_features='auto', max_leaf_nodes=None,\n",
              "                      max_samples=None, min_impurity_decrease=0.0,\n",
              "                      min_impurity_split=None, min_samples_leaf=1,\n",
              "                      min_samples_split=2, min_weight_fraction_leaf=0.0,\n",
              "                      n_estimators=100, n_jobs=None, oob_score=False,\n",
              "                      random_state=None, verbose=0, warm_start=False)"
            ]
          },
          "metadata": {
            "tags": []
          },
          "execution_count": 39
        }
      ]
    },
    {
      "cell_type": "code",
      "metadata": {
        "colab": {
          "base_uri": "https://localhost:8080/"
        },
        "id": "iszDP19-qgAW",
        "outputId": "f3e622a9-4b3d-4c66-bd06-ced8a7ee5b09"
      },
      "source": [
        "train_score_forest = str(forest.score(train_features, train_labels)*100)\n",
        "test_score_forest = str(forest.score(test_features, test_labels)*100)\n",
        "print(f'Train Score : {train_score_forest[:5]}%\\nTest Score : {test_score_forest[:5]}%')\n",
        "models[\"forest\"] = test_score_forest"
      ],
      "execution_count": null,
      "outputs": [
        {
          "output_type": "stream",
          "text": [
            "Train Score : 99.36%\n",
            "Test Score : 95.58%\n"
          ],
          "name": "stdout"
        }
      ]
    },
    {
      "cell_type": "code",
      "metadata": {
        "colab": {
          "base_uri": "https://localhost:8080/"
        },
        "id": "R4Y7u-CrqgAX",
        "outputId": "def9f344-eeff-477e-83cf-15712e36eed8"
      },
      "source": [
        "print(\"---- Random Forest Regression - Model Evaluation ----\")\n",
        "print(\"Mean Absolute Error (MAE): {}\".format(mae(test_labels, forest.predict(test_features))))\n",
        "print(\"Mean Squared Error (MSE): {}\".format(mse(test_labels, forest.predict(test_features))))\n",
        "print(\"Root Mean Squared Error (RMSE): {}\".format(np.sqrt(mse(test_labels, forest.predict(test_features)))))"
      ],
      "execution_count": null,
      "outputs": [
        {
          "output_type": "stream",
          "text": [
            "---- Random Forest Regression - Model Evaluation ----\n",
            "Mean Absolute Error (MAE): 7.094367862230714\n",
            "Mean Squared Error (MSE): 100.75781051496661\n",
            "Root Mean Squared Error (RMSE): 10.037819011865407\n"
          ],
          "name": "stdout"
        }
      ]
    },
    {
      "cell_type": "code",
      "metadata": {
        "colab": {
          "base_uri": "https://localhost:8080/"
        },
        "id": "4eqgBaC5qgAY",
        "outputId": "f5b7a549-f57e-4cdc-dab9-fda18c6b9ddc"
      },
      "source": [
        "#Lasso Regression\n",
        "from sklearn.linear_model import LassoCV\n",
        "lasso = LassoCV()\n",
        "# Train Model\n",
        "lasso.fit(train_features, train_labels)"
      ],
      "execution_count": null,
      "outputs": [
        {
          "output_type": "execute_result",
          "data": {
            "text/plain": [
              "LassoCV(alphas=None, copy_X=True, cv=None, eps=0.001, fit_intercept=True,\n",
              "        max_iter=1000, n_alphas=100, n_jobs=None, normalize=False,\n",
              "        positive=False, precompute='auto', random_state=None,\n",
              "        selection='cyclic', tol=0.0001, verbose=False)"
            ]
          },
          "metadata": {
            "tags": []
          },
          "execution_count": 42
        }
      ]
    },
    {
      "cell_type": "code",
      "metadata": {
        "colab": {
          "base_uri": "https://localhost:8080/"
        },
        "id": "lVxpQBg3qgAY",
        "outputId": "ae5ffc36-98b1-45dd-f69a-d9623ed18d57"
      },
      "source": [
        "train_score_lasso = str(lasso.score(train_features, train_labels)*100)\n",
        "test_score_lasso = str(lasso.score(test_features, test_labels)*100)\n",
        "print(f'Train Score : {train_score_lasso[:5]}%\\nTest Score : {test_score_lasso[:5]}%')\n",
        "models[\"lasso\"] = test_score_lasso"
      ],
      "execution_count": null,
      "outputs": [
        {
          "output_type": "stream",
          "text": [
            "Train Score : 90.57%\n",
            "Test Score : 90.53%\n"
          ],
          "name": "stdout"
        }
      ]
    },
    {
      "cell_type": "code",
      "metadata": {
        "colab": {
          "base_uri": "https://localhost:8080/"
        },
        "id": "abijhWb_qgAZ",
        "outputId": "b48c4db9-5ed9-4c36-8a75-e5437013e6dc"
      },
      "source": [
        "print(\"---- Lasso Regression - Model Evaluation ----\")\n",
        "print(\"Mean Absolute Error (MAE): {}\".format(mae(test_labels, lasso.predict(test_features))))\n",
        "print(\"Mean Squared Error (MSE): {}\".format(mse(test_labels, lasso.predict(test_features))))\n",
        "print(\"Root Mean Squared Error (RMSE): {}\".format(np.sqrt(mse(test_labels, lasso.predict(test_features)))))"
      ],
      "execution_count": null,
      "outputs": [
        {
          "output_type": "stream",
          "text": [
            "---- Lasso Regression - Model Evaluation ----\n",
            "Mean Absolute Error (MAE): 10.916737183589012\n",
            "Mean Squared Error (MSE): 216.03705081794197\n",
            "Root Mean Squared Error (RMSE): 14.698198897073818\n"
          ],
          "name": "stdout"
        }
      ]
    },
    {
      "cell_type": "code",
      "metadata": {
        "colab": {
          "base_uri": "https://localhost:8080/"
        },
        "id": "rzPB50T6iII2",
        "outputId": "57f943fd-7a84-4213-a59c-8d59895238e9"
      },
      "source": [
        "features.columns"
      ],
      "execution_count": null,
      "outputs": [
        {
          "output_type": "execute_result",
          "data": {
            "text/plain": [
              "Index(['total_runs', 'balls_faced', 'strike_rate', 'Boundary Fours',\n",
              "       'Boundary Sixes', '50s', '100s', 'wickets_taken', 'economy_rate',\n",
              "       'ball_number'],\n",
              "      dtype='object')"
            ]
          },
          "metadata": {
            "tags": []
          },
          "execution_count": 59
        }
      ]
    },
    {
      "cell_type": "code",
      "metadata": {
        "colab": {
          "base_uri": "https://localhost:8080/",
          "height": 417
        },
        "id": "BcXo8ihn3zgX",
        "outputId": "0dc9163b-a397-4f7b-eaf0-4397061dda3c"
      },
      "source": [
        "features"
      ],
      "execution_count": null,
      "outputs": [
        {
          "output_type": "execute_result",
          "data": {
            "text/html": [
              "<div>\n",
              "<style scoped>\n",
              "    .dataframe tbody tr th:only-of-type {\n",
              "        vertical-align: middle;\n",
              "    }\n",
              "\n",
              "    .dataframe tbody tr th {\n",
              "        vertical-align: top;\n",
              "    }\n",
              "\n",
              "    .dataframe thead th {\n",
              "        text-align: right;\n",
              "    }\n",
              "</style>\n",
              "<table border=\"1\" class=\"dataframe\">\n",
              "  <thead>\n",
              "    <tr style=\"text-align: right;\">\n",
              "      <th></th>\n",
              "      <th>total_runs</th>\n",
              "      <th>balls_faced</th>\n",
              "      <th>strike_rate</th>\n",
              "      <th>Boundary Fours</th>\n",
              "      <th>Boundary Sixes</th>\n",
              "      <th>50s</th>\n",
              "      <th>100s</th>\n",
              "      <th>wickets_taken</th>\n",
              "      <th>economy_rate</th>\n",
              "      <th>ball_number</th>\n",
              "    </tr>\n",
              "  </thead>\n",
              "  <tbody>\n",
              "    <tr>\n",
              "      <th>107574</th>\n",
              "      <td>1</td>\n",
              "      <td>17</td>\n",
              "      <td>47.06</td>\n",
              "      <td>1.0</td>\n",
              "      <td>0.0</td>\n",
              "      <td>0</td>\n",
              "      <td>0</td>\n",
              "      <td>0.0</td>\n",
              "      <td>8.18</td>\n",
              "      <td>1</td>\n",
              "    </tr>\n",
              "    <tr>\n",
              "      <th>96883</th>\n",
              "      <td>0</td>\n",
              "      <td>42</td>\n",
              "      <td>102.38</td>\n",
              "      <td>2.0</td>\n",
              "      <td>1.0</td>\n",
              "      <td>0</td>\n",
              "      <td>0</td>\n",
              "      <td>2.0</td>\n",
              "      <td>9.55</td>\n",
              "      <td>1</td>\n",
              "    </tr>\n",
              "    <tr>\n",
              "      <th>150633</th>\n",
              "      <td>1</td>\n",
              "      <td>6</td>\n",
              "      <td>66.67</td>\n",
              "      <td>0.0</td>\n",
              "      <td>0.0</td>\n",
              "      <td>0</td>\n",
              "      <td>0</td>\n",
              "      <td>1.0</td>\n",
              "      <td>5.75</td>\n",
              "      <td>1</td>\n",
              "    </tr>\n",
              "    <tr>\n",
              "      <th>150717</th>\n",
              "      <td>0</td>\n",
              "      <td>16</td>\n",
              "      <td>318.75</td>\n",
              "      <td>6.0</td>\n",
              "      <td>4.0</td>\n",
              "      <td>1</td>\n",
              "      <td>0</td>\n",
              "      <td>1.0</td>\n",
              "      <td>8.87</td>\n",
              "      <td>1</td>\n",
              "    </tr>\n",
              "    <tr>\n",
              "      <th>3110</th>\n",
              "      <td>1</td>\n",
              "      <td>3</td>\n",
              "      <td>33.33</td>\n",
              "      <td>0.0</td>\n",
              "      <td>0.0</td>\n",
              "      <td>0</td>\n",
              "      <td>0</td>\n",
              "      <td>1.0</td>\n",
              "      <td>8.45</td>\n",
              "      <td>1</td>\n",
              "    </tr>\n",
              "    <tr>\n",
              "      <th>...</th>\n",
              "      <td>...</td>\n",
              "      <td>...</td>\n",
              "      <td>...</td>\n",
              "      <td>...</td>\n",
              "      <td>...</td>\n",
              "      <td>...</td>\n",
              "      <td>...</td>\n",
              "      <td>...</td>\n",
              "      <td>...</td>\n",
              "      <td>...</td>\n",
              "    </tr>\n",
              "    <tr>\n",
              "      <th>121609</th>\n",
              "      <td>1</td>\n",
              "      <td>1</td>\n",
              "      <td>100.00</td>\n",
              "      <td>0.0</td>\n",
              "      <td>0.0</td>\n",
              "      <td>0</td>\n",
              "      <td>0</td>\n",
              "      <td>3.0</td>\n",
              "      <td>10.00</td>\n",
              "      <td>123</td>\n",
              "    </tr>\n",
              "    <tr>\n",
              "      <th>94072</th>\n",
              "      <td>0</td>\n",
              "      <td>19</td>\n",
              "      <td>100.00</td>\n",
              "      <td>2.0</td>\n",
              "      <td>0.0</td>\n",
              "      <td>0</td>\n",
              "      <td>0</td>\n",
              "      <td>1.0</td>\n",
              "      <td>10.75</td>\n",
              "      <td>123</td>\n",
              "    </tr>\n",
              "    <tr>\n",
              "      <th>153651</th>\n",
              "      <td>0</td>\n",
              "      <td>17</td>\n",
              "      <td>141.18</td>\n",
              "      <td>2.0</td>\n",
              "      <td>0.0</td>\n",
              "      <td>0</td>\n",
              "      <td>0</td>\n",
              "      <td>1.0</td>\n",
              "      <td>10.00</td>\n",
              "      <td>123</td>\n",
              "    </tr>\n",
              "    <tr>\n",
              "      <th>179922</th>\n",
              "      <td>1</td>\n",
              "      <td>6</td>\n",
              "      <td>450.00</td>\n",
              "      <td>0.0</td>\n",
              "      <td>4.0</td>\n",
              "      <td>0</td>\n",
              "      <td>0</td>\n",
              "      <td>1.0</td>\n",
              "      <td>14.00</td>\n",
              "      <td>123</td>\n",
              "    </tr>\n",
              "    <tr>\n",
              "      <th>8557</th>\n",
              "      <td>0</td>\n",
              "      <td>4</td>\n",
              "      <td>125.00</td>\n",
              "      <td>1.0</td>\n",
              "      <td>0.0</td>\n",
              "      <td>0</td>\n",
              "      <td>0</td>\n",
              "      <td>3.0</td>\n",
              "      <td>8.25</td>\n",
              "      <td>123</td>\n",
              "    </tr>\n",
              "  </tbody>\n",
              "</table>\n",
              "<p>193424 rows × 10 columns</p>\n",
              "</div>"
            ],
            "text/plain": [
              "        total_runs  balls_faced  ...  economy_rate  ball_number\n",
              "107574           1           17  ...          8.18            1\n",
              "96883            0           42  ...          9.55            1\n",
              "150633           1            6  ...          5.75            1\n",
              "150717           0           16  ...          8.87            1\n",
              "3110             1            3  ...          8.45            1\n",
              "...            ...          ...  ...           ...          ...\n",
              "121609           1            1  ...         10.00          123\n",
              "94072            0           19  ...         10.75          123\n",
              "153651           0           17  ...         10.00          123\n",
              "179922           1            6  ...         14.00          123\n",
              "8557             0            4  ...          8.25          123\n",
              "\n",
              "[193424 rows x 10 columns]"
            ]
          },
          "metadata": {
            "tags": []
          },
          "execution_count": 58
        }
      ]
    },
    {
      "cell_type": "code",
      "metadata": {
        "id": "PYPOE8GI6UQR"
      },
      "source": [
        ""
      ],
      "execution_count": null,
      "outputs": []
    }
  ]
}