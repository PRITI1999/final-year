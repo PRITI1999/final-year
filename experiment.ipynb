{
 "cells": [
  {
   "cell_type": "code",
   "execution_count": 1,
   "metadata": {},
   "outputs": [],
   "source": [
    "import pandas as pd\n",
    "import numpy as np"
   ]
  },
  {
   "cell_type": "code",
   "execution_count": 2,
   "metadata": {},
   "outputs": [],
   "source": [
    "data = pd.read_csv('allfts.csv')"
   ]
  },
  {
   "cell_type": "code",
   "execution_count": 3,
   "metadata": {},
   "outputs": [
    {
     "data": {
      "text/html": [
       "<div>\n",
       "<style scoped>\n",
       "    .dataframe tbody tr th:only-of-type {\n",
       "        vertical-align: middle;\n",
       "    }\n",
       "\n",
       "    .dataframe tbody tr th {\n",
       "        vertical-align: top;\n",
       "    }\n",
       "\n",
       "    .dataframe thead th {\n",
       "        text-align: right;\n",
       "    }\n",
       "</style>\n",
       "<table border=\"1\" class=\"dataframe\">\n",
       "  <thead>\n",
       "    <tr style=\"text-align: right;\">\n",
       "      <th></th>\n",
       "      <th>Unnamed: 0</th>\n",
       "      <th>id</th>\n",
       "      <th>team1</th>\n",
       "      <th>inning_x</th>\n",
       "      <th>strike_rate</th>\n",
       "      <th>team2</th>\n",
       "      <th>economy_rate</th>\n",
       "      <th>Team1_runs</th>\n",
       "    </tr>\n",
       "  </thead>\n",
       "  <tbody>\n",
       "    <tr>\n",
       "      <th>0</th>\n",
       "      <td>0</td>\n",
       "      <td>335982</td>\n",
       "      <td>Royal Challengers Bangalore</td>\n",
       "      <td>1</td>\n",
       "      <td>88.776875</td>\n",
       "      <td>Kolkata Knight Riders</td>\n",
       "      <td>9.923636</td>\n",
       "      <td>222</td>\n",
       "    </tr>\n",
       "    <tr>\n",
       "      <th>1</th>\n",
       "      <td>1</td>\n",
       "      <td>335983</td>\n",
       "      <td>Kings XI Punjab</td>\n",
       "      <td>1</td>\n",
       "      <td>162.167692</td>\n",
       "      <td>Chennai Super Kings</td>\n",
       "      <td>12.085833</td>\n",
       "      <td>240</td>\n",
       "    </tr>\n",
       "    <tr>\n",
       "      <th>2</th>\n",
       "      <td>2</td>\n",
       "      <td>335984</td>\n",
       "      <td>Delhi Capitals</td>\n",
       "      <td>1</td>\n",
       "      <td>117.141538</td>\n",
       "      <td>Rajasthan Royals</td>\n",
       "      <td>7.868182</td>\n",
       "      <td>129</td>\n",
       "    </tr>\n",
       "    <tr>\n",
       "      <th>3</th>\n",
       "      <td>3</td>\n",
       "      <td>335985</td>\n",
       "      <td>Mumbai Indians</td>\n",
       "      <td>1</td>\n",
       "      <td>129.096667</td>\n",
       "      <td>Royal Challengers Bangalore</td>\n",
       "      <td>8.559167</td>\n",
       "      <td>165</td>\n",
       "    </tr>\n",
       "    <tr>\n",
       "      <th>4</th>\n",
       "      <td>4</td>\n",
       "      <td>335986</td>\n",
       "      <td>Kolkata Knight Riders</td>\n",
       "      <td>1</td>\n",
       "      <td>70.883529</td>\n",
       "      <td>Deccan Chargers</td>\n",
       "      <td>6.567500</td>\n",
       "      <td>110</td>\n",
       "    </tr>\n",
       "  </tbody>\n",
       "</table>\n",
       "</div>"
      ],
      "text/plain": [
       "   Unnamed: 0      id                        team1  inning_x  strike_rate  \\\n",
       "0           0  335982  Royal Challengers Bangalore         1    88.776875   \n",
       "1           1  335983              Kings XI Punjab         1   162.167692   \n",
       "2           2  335984               Delhi Capitals         1   117.141538   \n",
       "3           3  335985               Mumbai Indians         1   129.096667   \n",
       "4           4  335986        Kolkata Knight Riders         1    70.883529   \n",
       "\n",
       "                         team2  economy_rate  Team1_runs  \n",
       "0        Kolkata Knight Riders      9.923636         222  \n",
       "1          Chennai Super Kings     12.085833         240  \n",
       "2             Rajasthan Royals      7.868182         129  \n",
       "3  Royal Challengers Bangalore      8.559167         165  \n",
       "4              Deccan Chargers      6.567500         110  "
      ]
     },
     "execution_count": 3,
     "metadata": {},
     "output_type": "execute_result"
    }
   ],
   "source": [
    "data.head()"
   ]
  },
  {
   "cell_type": "code",
   "execution_count": 4,
   "metadata": {},
   "outputs": [
    {
     "data": {
      "text/html": [
       "<div>\n",
       "<style scoped>\n",
       "    .dataframe tbody tr th:only-of-type {\n",
       "        vertical-align: middle;\n",
       "    }\n",
       "\n",
       "    .dataframe tbody tr th {\n",
       "        vertical-align: top;\n",
       "    }\n",
       "\n",
       "    .dataframe thead th {\n",
       "        text-align: right;\n",
       "    }\n",
       "</style>\n",
       "<table border=\"1\" class=\"dataframe\">\n",
       "  <thead>\n",
       "    <tr style=\"text-align: right;\">\n",
       "      <th></th>\n",
       "      <th>Unnamed: 0</th>\n",
       "      <th>id</th>\n",
       "      <th>inning_x</th>\n",
       "      <th>strike_rate</th>\n",
       "      <th>economy_rate</th>\n",
       "      <th>Team1_runs</th>\n",
       "    </tr>\n",
       "  </thead>\n",
       "  <tbody>\n",
       "    <tr>\n",
       "      <th>count</th>\n",
       "      <td>816.000000</td>\n",
       "      <td>8.160000e+02</td>\n",
       "      <td>816.0</td>\n",
       "      <td>816.000000</td>\n",
       "      <td>816.000000</td>\n",
       "      <td>816.000000</td>\n",
       "    </tr>\n",
       "    <tr>\n",
       "      <th>mean</th>\n",
       "      <td>407.500000</td>\n",
       "      <td>7.563496e+05</td>\n",
       "      <td>1.0</td>\n",
       "      <td>116.140274</td>\n",
       "      <td>8.579733</td>\n",
       "      <td>161.849265</td>\n",
       "    </tr>\n",
       "    <tr>\n",
       "      <th>std</th>\n",
       "      <td>235.703203</td>\n",
       "      <td>3.058943e+05</td>\n",
       "      <td>0.0</td>\n",
       "      <td>24.604295</td>\n",
       "      <td>1.352669</td>\n",
       "      <td>30.382883</td>\n",
       "    </tr>\n",
       "    <tr>\n",
       "      <th>min</th>\n",
       "      <td>0.000000</td>\n",
       "      <td>3.359820e+05</td>\n",
       "      <td>1.0</td>\n",
       "      <td>47.650000</td>\n",
       "      <td>3.897500</td>\n",
       "      <td>56.000000</td>\n",
       "    </tr>\n",
       "    <tr>\n",
       "      <th>25%</th>\n",
       "      <td>203.750000</td>\n",
       "      <td>5.012278e+05</td>\n",
       "      <td>1.0</td>\n",
       "      <td>99.404250</td>\n",
       "      <td>7.721477</td>\n",
       "      <td>143.000000</td>\n",
       "    </tr>\n",
       "    <tr>\n",
       "      <th>50%</th>\n",
       "      <td>407.500000</td>\n",
       "      <td>7.292980e+05</td>\n",
       "      <td>1.0</td>\n",
       "      <td>114.916429</td>\n",
       "      <td>8.530000</td>\n",
       "      <td>163.000000</td>\n",
       "    </tr>\n",
       "    <tr>\n",
       "      <th>75%</th>\n",
       "      <td>611.250000</td>\n",
       "      <td>1.082626e+06</td>\n",
       "      <td>1.0</td>\n",
       "      <td>131.184038</td>\n",
       "      <td>9.389107</td>\n",
       "      <td>182.000000</td>\n",
       "    </tr>\n",
       "    <tr>\n",
       "      <th>max</th>\n",
       "      <td>815.000000</td>\n",
       "      <td>1.237181e+06</td>\n",
       "      <td>1.0</td>\n",
       "      <td>219.938333</td>\n",
       "      <td>12.989000</td>\n",
       "      <td>263.000000</td>\n",
       "    </tr>\n",
       "  </tbody>\n",
       "</table>\n",
       "</div>"
      ],
      "text/plain": [
       "       Unnamed: 0            id  inning_x  strike_rate  economy_rate  \\\n",
       "count  816.000000  8.160000e+02     816.0   816.000000    816.000000   \n",
       "mean   407.500000  7.563496e+05       1.0   116.140274      8.579733   \n",
       "std    235.703203  3.058943e+05       0.0    24.604295      1.352669   \n",
       "min      0.000000  3.359820e+05       1.0    47.650000      3.897500   \n",
       "25%    203.750000  5.012278e+05       1.0    99.404250      7.721477   \n",
       "50%    407.500000  7.292980e+05       1.0   114.916429      8.530000   \n",
       "75%    611.250000  1.082626e+06       1.0   131.184038      9.389107   \n",
       "max    815.000000  1.237181e+06       1.0   219.938333     12.989000   \n",
       "\n",
       "       Team1_runs  \n",
       "count  816.000000  \n",
       "mean   161.849265  \n",
       "std     30.382883  \n",
       "min     56.000000  \n",
       "25%    143.000000  \n",
       "50%    163.000000  \n",
       "75%    182.000000  \n",
       "max    263.000000  "
      ]
     },
     "execution_count": 4,
     "metadata": {},
     "output_type": "execute_result"
    }
   ],
   "source": [
    "data.describe()"
   ]
  },
  {
   "cell_type": "code",
   "execution_count": 5,
   "metadata": {},
   "outputs": [
    {
     "name": "stdout",
     "output_type": "stream",
     "text": [
      "<class 'pandas.core.frame.DataFrame'>\n",
      "RangeIndex: 816 entries, 0 to 815\n",
      "Data columns (total 8 columns):\n",
      " #   Column        Non-Null Count  Dtype  \n",
      "---  ------        --------------  -----  \n",
      " 0   Unnamed: 0    816 non-null    int64  \n",
      " 1   id            816 non-null    int64  \n",
      " 2   team1         816 non-null    object \n",
      " 3   inning_x      816 non-null    int64  \n",
      " 4   strike_rate   816 non-null    float64\n",
      " 5   team2         816 non-null    object \n",
      " 6   economy_rate  816 non-null    float64\n",
      " 7   Team1_runs    816 non-null    int64  \n",
      "dtypes: float64(2), int64(4), object(2)\n",
      "memory usage: 51.1+ KB\n"
     ]
    }
   ],
   "source": [
    "data.info()"
   ]
  },
  {
   "cell_type": "code",
   "execution_count": 6,
   "metadata": {},
   "outputs": [
    {
     "data": {
      "text/plain": [
       "Unnamed: 0      816\n",
       "id              816\n",
       "team1            13\n",
       "inning_x          1\n",
       "strike_rate     815\n",
       "team2            13\n",
       "economy_rate    799\n",
       "Team1_runs      151\n",
       "dtype: int64"
      ]
     },
     "execution_count": 6,
     "metadata": {},
     "output_type": "execute_result"
    }
   ],
   "source": [
    "data.nunique()"
   ]
  },
  {
   "cell_type": "code",
   "execution_count": 7,
   "metadata": {},
   "outputs": [
    {
     "data": {
      "text/plain": [
       "Unnamed: 0        int64\n",
       "id                int64\n",
       "team1            object\n",
       "inning_x          int64\n",
       "strike_rate     float64\n",
       "team2            object\n",
       "economy_rate    float64\n",
       "Team1_runs        int64\n",
       "dtype: object"
      ]
     },
     "execution_count": 7,
     "metadata": {},
     "output_type": "execute_result"
    }
   ],
   "source": [
    "data.dtypes"
   ]
  },
  {
   "cell_type": "code",
   "execution_count": 8,
   "metadata": {},
   "outputs": [
    {
     "data": {
      "text/plain": [
       "Index(['Unnamed: 0', 'id', 'team1', 'inning_x', 'strike_rate', 'team2',\n",
       "       'economy_rate', 'Team1_runs'],\n",
       "      dtype='object')"
      ]
     },
     "execution_count": 8,
     "metadata": {},
     "output_type": "execute_result"
    }
   ],
   "source": [
    "data.columns"
   ]
  },
  {
   "cell_type": "code",
   "execution_count": 9,
   "metadata": {},
   "outputs": [
    {
     "data": {
      "text/html": [
       "<div>\n",
       "<style scoped>\n",
       "    .dataframe tbody tr th:only-of-type {\n",
       "        vertical-align: middle;\n",
       "    }\n",
       "\n",
       "    .dataframe tbody tr th {\n",
       "        vertical-align: top;\n",
       "    }\n",
       "\n",
       "    .dataframe thead th {\n",
       "        text-align: right;\n",
       "    }\n",
       "</style>\n",
       "<table border=\"1\" class=\"dataframe\">\n",
       "  <thead>\n",
       "    <tr style=\"text-align: right;\">\n",
       "      <th></th>\n",
       "      <th>Unnamed: 0</th>\n",
       "      <th>id</th>\n",
       "      <th>strike_rate</th>\n",
       "      <th>economy_rate</th>\n",
       "      <th>Team1_runs</th>\n",
       "    </tr>\n",
       "  </thead>\n",
       "  <tbody>\n",
       "    <tr>\n",
       "      <th>0</th>\n",
       "      <td>0</td>\n",
       "      <td>335982</td>\n",
       "      <td>88.776875</td>\n",
       "      <td>9.923636</td>\n",
       "      <td>222</td>\n",
       "    </tr>\n",
       "    <tr>\n",
       "      <th>1</th>\n",
       "      <td>1</td>\n",
       "      <td>335983</td>\n",
       "      <td>162.167692</td>\n",
       "      <td>12.085833</td>\n",
       "      <td>240</td>\n",
       "    </tr>\n",
       "    <tr>\n",
       "      <th>2</th>\n",
       "      <td>2</td>\n",
       "      <td>335984</td>\n",
       "      <td>117.141538</td>\n",
       "      <td>7.868182</td>\n",
       "      <td>129</td>\n",
       "    </tr>\n",
       "    <tr>\n",
       "      <th>3</th>\n",
       "      <td>3</td>\n",
       "      <td>335985</td>\n",
       "      <td>129.096667</td>\n",
       "      <td>8.559167</td>\n",
       "      <td>165</td>\n",
       "    </tr>\n",
       "    <tr>\n",
       "      <th>4</th>\n",
       "      <td>4</td>\n",
       "      <td>335986</td>\n",
       "      <td>70.883529</td>\n",
       "      <td>6.567500</td>\n",
       "      <td>110</td>\n",
       "    </tr>\n",
       "  </tbody>\n",
       "</table>\n",
       "</div>"
      ],
      "text/plain": [
       "   Unnamed: 0      id  strike_rate  economy_rate  Team1_runs\n",
       "0           0  335982    88.776875      9.923636         222\n",
       "1           1  335983   162.167692     12.085833         240\n",
       "2           2  335984   117.141538      7.868182         129\n",
       "3           3  335985   129.096667      8.559167         165\n",
       "4           4  335986    70.883529      6.567500         110"
      ]
     },
     "execution_count": 9,
     "metadata": {},
     "output_type": "execute_result"
    }
   ],
   "source": [
    "irrelevant = ['team1','inning_x','team2']\n",
    "data = data.drop(irrelevant, axis=1)\n",
    "data.head()"
   ]
  },
  {
   "cell_type": "code",
   "execution_count": 10,
   "metadata": {},
   "outputs": [
    {
     "data": {
      "text/html": [
       "<div>\n",
       "<style scoped>\n",
       "    .dataframe tbody tr th:only-of-type {\n",
       "        vertical-align: middle;\n",
       "    }\n",
       "\n",
       "    .dataframe tbody tr th {\n",
       "        vertical-align: top;\n",
       "    }\n",
       "\n",
       "    .dataframe thead th {\n",
       "        text-align: right;\n",
       "    }\n",
       "</style>\n",
       "<table border=\"1\" class=\"dataframe\">\n",
       "  <thead>\n",
       "    <tr style=\"text-align: right;\">\n",
       "      <th></th>\n",
       "      <th>id</th>\n",
       "      <th>strike_rate</th>\n",
       "      <th>economy_rate</th>\n",
       "      <th>Team1_runs</th>\n",
       "    </tr>\n",
       "  </thead>\n",
       "  <tbody>\n",
       "    <tr>\n",
       "      <th>0</th>\n",
       "      <td>335982</td>\n",
       "      <td>88.776875</td>\n",
       "      <td>9.923636</td>\n",
       "      <td>222</td>\n",
       "    </tr>\n",
       "    <tr>\n",
       "      <th>1</th>\n",
       "      <td>335983</td>\n",
       "      <td>162.167692</td>\n",
       "      <td>12.085833</td>\n",
       "      <td>240</td>\n",
       "    </tr>\n",
       "    <tr>\n",
       "      <th>2</th>\n",
       "      <td>335984</td>\n",
       "      <td>117.141538</td>\n",
       "      <td>7.868182</td>\n",
       "      <td>129</td>\n",
       "    </tr>\n",
       "    <tr>\n",
       "      <th>3</th>\n",
       "      <td>335985</td>\n",
       "      <td>129.096667</td>\n",
       "      <td>8.559167</td>\n",
       "      <td>165</td>\n",
       "    </tr>\n",
       "    <tr>\n",
       "      <th>4</th>\n",
       "      <td>335986</td>\n",
       "      <td>70.883529</td>\n",
       "      <td>6.567500</td>\n",
       "      <td>110</td>\n",
       "    </tr>\n",
       "  </tbody>\n",
       "</table>\n",
       "</div>"
      ],
      "text/plain": [
       "       id  strike_rate  economy_rate  Team1_runs\n",
       "0  335982    88.776875      9.923636         222\n",
       "1  335983   162.167692     12.085833         240\n",
       "2  335984   117.141538      7.868182         129\n",
       "3  335985   129.096667      8.559167         165\n",
       "4  335986    70.883529      6.567500         110"
      ]
     },
     "execution_count": 10,
     "metadata": {},
     "output_type": "execute_result"
    }
   ],
   "source": [
    "data = data.drop(data.columns[0],axis=True)\n",
    "data.head()"
   ]
  },
  {
   "cell_type": "code",
   "execution_count": 11,
   "metadata": {},
   "outputs": [
    {
     "data": {
      "text/plain": [
       "id              0\n",
       "strike_rate     0\n",
       "economy_rate    0\n",
       "Team1_runs      0\n",
       "dtype: int64"
      ]
     },
     "execution_count": 11,
     "metadata": {},
     "output_type": "execute_result"
    }
   ],
   "source": [
    "data[data==np.inf]=np.nan\n",
    "data.dropna()\n",
    "data.isna().sum()"
   ]
  },
  {
   "cell_type": "code",
   "execution_count": 12,
   "metadata": {
    "scrolled": true
   },
   "outputs": [
    {
     "ename": "ModuleNotFoundError",
     "evalue": "No module named 'seaborn'",
     "output_type": "error",
     "traceback": [
      "\u001b[0;31m---------------------------------------------------------------------------\u001b[0m",
      "\u001b[0;31mModuleNotFoundError\u001b[0m                       Traceback (most recent call last)",
      "\u001b[0;32m<ipython-input-12-a7ad5aad7ca9>\u001b[0m in \u001b[0;36m<module>\u001b[0;34m\u001b[0m\n\u001b[0;32m----> 1\u001b[0;31m \u001b[0;32mfrom\u001b[0m \u001b[0mseaborn\u001b[0m \u001b[0;32mimport\u001b[0m \u001b[0mheatmap\u001b[0m\u001b[0;34m\u001b[0m\u001b[0;34m\u001b[0m\u001b[0m\n\u001b[0m\u001b[1;32m      2\u001b[0m \u001b[0mheatmap\u001b[0m\u001b[0;34m(\u001b[0m\u001b[0mdata\u001b[0m\u001b[0;34m=\u001b[0m\u001b[0mdata\u001b[0m\u001b[0;34m.\u001b[0m\u001b[0mcorr\u001b[0m\u001b[0;34m(\u001b[0m\u001b[0;34m)\u001b[0m\u001b[0;34m,\u001b[0m \u001b[0mannot\u001b[0m\u001b[0;34m=\u001b[0m\u001b[0;32mTrue\u001b[0m\u001b[0;34m)\u001b[0m\u001b[0;34m\u001b[0m\u001b[0;34m\u001b[0m\u001b[0m\n",
      "\u001b[0;31mModuleNotFoundError\u001b[0m: No module named 'seaborn'"
     ]
    }
   ],
   "source": [
    "from seaborn import heatmap\n",
    "heatmap(data=data.corr(), annot=True)"
   ]
  },
  {
   "cell_type": "code",
   "execution_count": 12,
   "metadata": {},
   "outputs": [
    {
     "data": {
      "text/html": [
       "<div>\n",
       "<style scoped>\n",
       "    .dataframe tbody tr th:only-of-type {\n",
       "        vertical-align: middle;\n",
       "    }\n",
       "\n",
       "    .dataframe tbody tr th {\n",
       "        vertical-align: top;\n",
       "    }\n",
       "\n",
       "    .dataframe thead th {\n",
       "        text-align: right;\n",
       "    }\n",
       "</style>\n",
       "<table border=\"1\" class=\"dataframe\">\n",
       "  <thead>\n",
       "    <tr style=\"text-align: right;\">\n",
       "      <th></th>\n",
       "      <th>id</th>\n",
       "      <th>city</th>\n",
       "      <th>date</th>\n",
       "      <th>player_of_match</th>\n",
       "      <th>venue</th>\n",
       "      <th>neutral_venue</th>\n",
       "      <th>team1</th>\n",
       "      <th>team2</th>\n",
       "      <th>toss_winner</th>\n",
       "      <th>toss_decision</th>\n",
       "      <th>winner</th>\n",
       "      <th>result</th>\n",
       "      <th>result_margin</th>\n",
       "      <th>eliminator</th>\n",
       "      <th>method</th>\n",
       "      <th>umpire1</th>\n",
       "      <th>umpire2</th>\n",
       "    </tr>\n",
       "  </thead>\n",
       "  <tbody>\n",
       "    <tr>\n",
       "      <th>0</th>\n",
       "      <td>335982</td>\n",
       "      <td>Bangalore</td>\n",
       "      <td>2008-04-18</td>\n",
       "      <td>BB McCullum</td>\n",
       "      <td>M Chinnaswamy Stadium</td>\n",
       "      <td>0</td>\n",
       "      <td>Royal Challengers Bangalore</td>\n",
       "      <td>Kolkata Knight Riders</td>\n",
       "      <td>Royal Challengers Bangalore</td>\n",
       "      <td>field</td>\n",
       "      <td>Kolkata Knight Riders</td>\n",
       "      <td>runs</td>\n",
       "      <td>140.0</td>\n",
       "      <td>N</td>\n",
       "      <td>NaN</td>\n",
       "      <td>Asad Rauf</td>\n",
       "      <td>RE Koertzen</td>\n",
       "    </tr>\n",
       "    <tr>\n",
       "      <th>1</th>\n",
       "      <td>335983</td>\n",
       "      <td>Chandigarh</td>\n",
       "      <td>2008-04-19</td>\n",
       "      <td>MEK Hussey</td>\n",
       "      <td>Punjab Cricket Association Stadium, Mohali</td>\n",
       "      <td>0</td>\n",
       "      <td>Kings XI Punjab</td>\n",
       "      <td>Chennai Super Kings</td>\n",
       "      <td>Chennai Super Kings</td>\n",
       "      <td>bat</td>\n",
       "      <td>Chennai Super Kings</td>\n",
       "      <td>runs</td>\n",
       "      <td>33.0</td>\n",
       "      <td>N</td>\n",
       "      <td>NaN</td>\n",
       "      <td>MR Benson</td>\n",
       "      <td>SL Shastri</td>\n",
       "    </tr>\n",
       "    <tr>\n",
       "      <th>2</th>\n",
       "      <td>335984</td>\n",
       "      <td>Delhi</td>\n",
       "      <td>2008-04-19</td>\n",
       "      <td>MF Maharoof</td>\n",
       "      <td>Feroz Shah Kotla</td>\n",
       "      <td>0</td>\n",
       "      <td>Delhi Daredevils</td>\n",
       "      <td>Rajasthan Royals</td>\n",
       "      <td>Rajasthan Royals</td>\n",
       "      <td>bat</td>\n",
       "      <td>Delhi Daredevils</td>\n",
       "      <td>wickets</td>\n",
       "      <td>9.0</td>\n",
       "      <td>N</td>\n",
       "      <td>NaN</td>\n",
       "      <td>Aleem Dar</td>\n",
       "      <td>GA Pratapkumar</td>\n",
       "    </tr>\n",
       "    <tr>\n",
       "      <th>3</th>\n",
       "      <td>335985</td>\n",
       "      <td>Mumbai</td>\n",
       "      <td>2008-04-20</td>\n",
       "      <td>MV Boucher</td>\n",
       "      <td>Wankhede Stadium</td>\n",
       "      <td>0</td>\n",
       "      <td>Mumbai Indians</td>\n",
       "      <td>Royal Challengers Bangalore</td>\n",
       "      <td>Mumbai Indians</td>\n",
       "      <td>bat</td>\n",
       "      <td>Royal Challengers Bangalore</td>\n",
       "      <td>wickets</td>\n",
       "      <td>5.0</td>\n",
       "      <td>N</td>\n",
       "      <td>NaN</td>\n",
       "      <td>SJ Davis</td>\n",
       "      <td>DJ Harper</td>\n",
       "    </tr>\n",
       "    <tr>\n",
       "      <th>4</th>\n",
       "      <td>335986</td>\n",
       "      <td>Kolkata</td>\n",
       "      <td>2008-04-20</td>\n",
       "      <td>DJ Hussey</td>\n",
       "      <td>Eden Gardens</td>\n",
       "      <td>0</td>\n",
       "      <td>Kolkata Knight Riders</td>\n",
       "      <td>Deccan Chargers</td>\n",
       "      <td>Deccan Chargers</td>\n",
       "      <td>bat</td>\n",
       "      <td>Kolkata Knight Riders</td>\n",
       "      <td>wickets</td>\n",
       "      <td>5.0</td>\n",
       "      <td>N</td>\n",
       "      <td>NaN</td>\n",
       "      <td>BF Bowden</td>\n",
       "      <td>K Hariharan</td>\n",
       "    </tr>\n",
       "  </tbody>\n",
       "</table>\n",
       "</div>"
      ],
      "text/plain": [
       "       id        city        date player_of_match  \\\n",
       "0  335982   Bangalore  2008-04-18     BB McCullum   \n",
       "1  335983  Chandigarh  2008-04-19      MEK Hussey   \n",
       "2  335984       Delhi  2008-04-19     MF Maharoof   \n",
       "3  335985      Mumbai  2008-04-20      MV Boucher   \n",
       "4  335986     Kolkata  2008-04-20       DJ Hussey   \n",
       "\n",
       "                                        venue  neutral_venue  \\\n",
       "0                       M Chinnaswamy Stadium              0   \n",
       "1  Punjab Cricket Association Stadium, Mohali              0   \n",
       "2                            Feroz Shah Kotla              0   \n",
       "3                            Wankhede Stadium              0   \n",
       "4                                Eden Gardens              0   \n",
       "\n",
       "                         team1                        team2  \\\n",
       "0  Royal Challengers Bangalore        Kolkata Knight Riders   \n",
       "1              Kings XI Punjab          Chennai Super Kings   \n",
       "2             Delhi Daredevils             Rajasthan Royals   \n",
       "3               Mumbai Indians  Royal Challengers Bangalore   \n",
       "4        Kolkata Knight Riders              Deccan Chargers   \n",
       "\n",
       "                   toss_winner toss_decision                       winner  \\\n",
       "0  Royal Challengers Bangalore         field        Kolkata Knight Riders   \n",
       "1          Chennai Super Kings           bat          Chennai Super Kings   \n",
       "2             Rajasthan Royals           bat             Delhi Daredevils   \n",
       "3               Mumbai Indians           bat  Royal Challengers Bangalore   \n",
       "4              Deccan Chargers           bat        Kolkata Knight Riders   \n",
       "\n",
       "    result  result_margin eliminator method    umpire1         umpire2  \n",
       "0     runs          140.0          N    NaN  Asad Rauf     RE Koertzen  \n",
       "1     runs           33.0          N    NaN  MR Benson      SL Shastri  \n",
       "2  wickets            9.0          N    NaN  Aleem Dar  GA Pratapkumar  \n",
       "3  wickets            5.0          N    NaN   SJ Davis       DJ Harper  \n",
       "4  wickets            5.0          N    NaN  BF Bowden     K Hariharan  "
      ]
     },
     "execution_count": 12,
     "metadata": {},
     "output_type": "execute_result"
    }
   ],
   "source": [
    "matches = pd.read_csv('datasets/matches.csv')\n",
    "matches.head()"
   ]
  },
  {
   "cell_type": "code",
   "execution_count": 17,
   "metadata": {},
   "outputs": [
    {
     "data": {
      "text/html": [
       "<div>\n",
       "<style scoped>\n",
       "    .dataframe tbody tr th:only-of-type {\n",
       "        vertical-align: middle;\n",
       "    }\n",
       "\n",
       "    .dataframe tbody tr th {\n",
       "        vertical-align: top;\n",
       "    }\n",
       "\n",
       "    .dataframe thead th {\n",
       "        text-align: right;\n",
       "    }\n",
       "</style>\n",
       "<table border=\"1\" class=\"dataframe\">\n",
       "  <thead>\n",
       "    <tr style=\"text-align: right;\">\n",
       "      <th></th>\n",
       "      <th>id</th>\n",
       "      <th>team1</th>\n",
       "      <th>team2</th>\n",
       "      <th>city</th>\n",
       "      <th>toss_decision</th>\n",
       "      <th>toss_winner</th>\n",
       "      <th>venue</th>\n",
       "    </tr>\n",
       "  </thead>\n",
       "  <tbody>\n",
       "    <tr>\n",
       "      <th>0</th>\n",
       "      <td>335982</td>\n",
       "      <td>3</td>\n",
       "      <td>2</td>\n",
       "      <td>Bangalore</td>\n",
       "      <td>field</td>\n",
       "      <td>3</td>\n",
       "      <td>M Chinnaswamy Stadium</td>\n",
       "    </tr>\n",
       "    <tr>\n",
       "      <th>1</th>\n",
       "      <td>335983</td>\n",
       "      <td>9</td>\n",
       "      <td>5</td>\n",
       "      <td>Chandigarh</td>\n",
       "      <td>bat</td>\n",
       "      <td>5</td>\n",
       "      <td>Punjab Cricket Association Stadium, Mohali</td>\n",
       "    </tr>\n",
       "  </tbody>\n",
       "</table>\n",
       "</div>"
      ],
      "text/plain": [
       "       id  team1  team2        city toss_decision  toss_winner  \\\n",
       "0  335982      3      2   Bangalore         field            3   \n",
       "1  335983      9      5  Chandigarh           bat            5   \n",
       "\n",
       "                                        venue  \n",
       "0                       M Chinnaswamy Stadium  \n",
       "1  Punjab Cricket Association Stadium, Mohali  "
      ]
     },
     "execution_count": 17,
     "metadata": {},
     "output_type": "execute_result"
    }
   ],
   "source": [
    "matches.replace(['Mumbai Indians','Kolkata Knight Riders','Royal Challengers Bangalore','Deccan Chargers','Chennai Super Kings',\n",
    "                 'Rajasthan Royals','Delhi Daredevils','Gujarat Lions','Kings XI Punjab',\n",
    "                 'Sunrisers Hyderabad','Rising Pune Supergiants','Rising Pune Supergiant','Kochi Tuskers Kerala','Pune Warriors', 'Delhi Capitals']\n",
    "                ,['MI','KKR','RCB','DC','CSK','RR','DD','GL','KXIP','SRH','RPS','RPS','KTK','PW', 'DD'],inplace=True)\n",
    "\n",
    "encode = {'team1': {'MI':1,'KKR':2,'RCB':3,'DC':4,'CSK':5,'RR':6,'DD':7,'GL':8,'KXIP':9,'SRH':10,'RPS':11,'KTK':12,'PW':13},\n",
    "          'team2': {'MI':1,'KKR':2,'RCB':3,'DC':4,'CSK':5,'RR':6,'DD':7,'GL':8,'KXIP':9,'SRH':10,'RPS':11,'KTK':12,'PW':13},\n",
    "          'toss_winner': {'MI':1,'KKR':2,'RCB':3,'DC':4,'CSK':5,'RR':6,'DD':7,'GL':8,'KXIP':9,'SRH':10,'RPS':11,'KTK':12,'PW':13}}\n",
    "matches.replace(encode, inplace=True)\n",
    "matches['city'].fillna('Dubai',inplace=True)\n",
    "matches = matches[['id','team1','team2','city','toss_decision','toss_winner','venue']]\n",
    "matches.head(2)\n"
   ]
  },
  {
   "cell_type": "code",
   "execution_count": 18,
   "metadata": {},
   "outputs": [
    {
     "name": "stdout",
     "output_type": "stream",
     "text": [
      "<class 'pandas.core.frame.DataFrame'>\n",
      "Int64Index: 816 entries, 0 to 815\n",
      "Data columns (total 10 columns):\n",
      " #   Column         Non-Null Count  Dtype  \n",
      "---  ------         --------------  -----  \n",
      " 0   id             816 non-null    int64  \n",
      " 1   team1          816 non-null    int64  \n",
      " 2   team2          816 non-null    int64  \n",
      " 3   city           816 non-null    object \n",
      " 4   toss_decision  816 non-null    object \n",
      " 5   toss_winner    816 non-null    int64  \n",
      " 6   venue          816 non-null    object \n",
      " 7   strike_rate    816 non-null    float64\n",
      " 8   economy_rate   816 non-null    float64\n",
      " 9   Team1_runs     816 non-null    int64  \n",
      "dtypes: float64(2), int64(5), object(3)\n",
      "memory usage: 70.1+ KB\n"
     ]
    }
   ],
   "source": [
    "final = pd.merge(matches, data, on=['id'])\n",
    "final.info()"
   ]
  },
  {
   "cell_type": "code",
   "execution_count": 19,
   "metadata": {},
   "outputs": [
    {
     "data": {
      "text/plain": [
       "array([ 3,  9,  7,  1,  2,  6,  4,  5, 12, 13, 10,  8, 11])"
      ]
     },
     "execution_count": 19,
     "metadata": {},
     "output_type": "execute_result"
    }
   ],
   "source": [
    "final['team1'].unique()"
   ]
  },
  {
   "cell_type": "code",
   "execution_count": 20,
   "metadata": {},
   "outputs": [
    {
     "data": {
      "text/plain": [
       "id                 int64\n",
       "team1              int64\n",
       "team2              int64\n",
       "city               int64\n",
       "toss_decision      int64\n",
       "toss_winner        int64\n",
       "venue              int64\n",
       "strike_rate      float64\n",
       "economy_rate     float64\n",
       "Team1_runs         int64\n",
       "dtype: object"
      ]
     },
     "execution_count": 20,
     "metadata": {},
     "output_type": "execute_result"
    }
   ],
   "source": [
    "#building predictive model\n",
    "from sklearn.preprocessing import LabelEncoder\n",
    "var_mod = ['city','toss_decision','venue']\n",
    "le = LabelEncoder()\n",
    "for i in var_mod:\n",
    "    final[i] = le.fit_transform(final[i])\n",
    "final.dtypes"
   ]
  },
  {
   "cell_type": "code",
   "execution_count": 21,
   "metadata": {},
   "outputs": [
    {
     "data": {
      "text/plain": [
       "id               0\n",
       "team1            0\n",
       "team2            0\n",
       "city             0\n",
       "toss_decision    0\n",
       "toss_winner      0\n",
       "venue            0\n",
       "strike_rate      0\n",
       "economy_rate     0\n",
       "Team1_runs       0\n",
       "dtype: int64"
      ]
     },
     "execution_count": 21,
     "metadata": {},
     "output_type": "execute_result"
    }
   ],
   "source": [
    " final.apply(lambda x: sum(x.isnull()),axis=0)"
   ]
  },
  {
   "cell_type": "code",
   "execution_count": 42,
   "metadata": {},
   "outputs": [],
   "source": [
    "features = final.drop(['Team1_runs', 'id'], axis=1)\n",
    "labels = final['Team1_runs']"
   ]
  },
  {
   "cell_type": "code",
   "execution_count": 188,
   "metadata": {},
   "outputs": [
    {
     "data": {
      "text/html": [
       "<div>\n",
       "<style scoped>\n",
       "    .dataframe tbody tr th:only-of-type {\n",
       "        vertical-align: middle;\n",
       "    }\n",
       "\n",
       "    .dataframe tbody tr th {\n",
       "        vertical-align: top;\n",
       "    }\n",
       "\n",
       "    .dataframe thead th {\n",
       "        text-align: right;\n",
       "    }\n",
       "</style>\n",
       "<table border=\"1\" class=\"dataframe\">\n",
       "  <thead>\n",
       "    <tr style=\"text-align: right;\">\n",
       "      <th></th>\n",
       "      <th>team1</th>\n",
       "      <th>team2</th>\n",
       "      <th>city</th>\n",
       "      <th>toss_decision</th>\n",
       "      <th>toss_winner</th>\n",
       "      <th>venue</th>\n",
       "      <th>strike_rate</th>\n",
       "      <th>economy_rate</th>\n",
       "    </tr>\n",
       "  </thead>\n",
       "  <tbody>\n",
       "    <tr>\n",
       "      <th>413</th>\n",
       "      <td>7</td>\n",
       "      <td>1</td>\n",
       "      <td>12</td>\n",
       "      <td>0</td>\n",
       "      <td>1</td>\n",
       "      <td>29</td>\n",
       "      <td>107.055714</td>\n",
       "      <td>6.731667</td>\n",
       "    </tr>\n",
       "    <tr>\n",
       "      <th>127</th>\n",
       "      <td>6</td>\n",
       "      <td>2</td>\n",
       "      <td>1</td>\n",
       "      <td>0</td>\n",
       "      <td>6</td>\n",
       "      <td>25</td>\n",
       "      <td>100.708000</td>\n",
       "      <td>7.998333</td>\n",
       "    </tr>\n",
       "    <tr>\n",
       "      <th>344</th>\n",
       "      <td>7</td>\n",
       "      <td>5</td>\n",
       "      <td>10</td>\n",
       "      <td>0</td>\n",
       "      <td>5</td>\n",
       "      <td>8</td>\n",
       "      <td>84.264375</td>\n",
       "      <td>6.811667</td>\n",
       "    </tr>\n",
       "    <tr>\n",
       "      <th>525</th>\n",
       "      <td>1</td>\n",
       "      <td>8</td>\n",
       "      <td>23</td>\n",
       "      <td>1</td>\n",
       "      <td>8</td>\n",
       "      <td>35</td>\n",
       "      <td>104.555556</td>\n",
       "      <td>7.493333</td>\n",
       "    </tr>\n",
       "    <tr>\n",
       "      <th>270</th>\n",
       "      <td>9</td>\n",
       "      <td>2</td>\n",
       "      <td>7</td>\n",
       "      <td>0</td>\n",
       "      <td>9</td>\n",
       "      <td>23</td>\n",
       "      <td>100.528333</td>\n",
       "      <td>7.431818</td>\n",
       "    </tr>\n",
       "  </tbody>\n",
       "</table>\n",
       "</div>"
      ],
      "text/plain": [
       "     team1  team2  city  toss_decision  toss_winner  venue  strike_rate  \\\n",
       "413      7      1    12              0            1     29   107.055714   \n",
       "127      6      2     1              0            6     25   100.708000   \n",
       "344      7      5    10              0            5      8    84.264375   \n",
       "525      1      8    23              1            8     35   104.555556   \n",
       "270      9      2     7              0            9     23   100.528333   \n",
       "\n",
       "     economy_rate  \n",
       "413      6.731667  \n",
       "127      7.998333  \n",
       "344      6.811667  \n",
       "525      7.493333  \n",
       "270      7.431818  "
      ]
     },
     "execution_count": 188,
     "metadata": {},
     "output_type": "execute_result"
    }
   ],
   "source": [
    "from sklearn.model_selection import train_test_split\n",
    "train_features, test_features, train_labels, test_labels = train_test_split(features, labels, test_size=0.20, shuffle=True)\n",
    "train_features.head()"
   ]
  },
  {
   "cell_type": "code",
   "execution_count": 172,
   "metadata": {},
   "outputs": [],
   "source": [
    "def getAccuracy(pred):\n",
    "    correct = 0\n",
    "    pred = pred.flatten()\n",
    "    test = test_labels.to_frame().to_numpy().flatten()\n",
    "    for i in range(len(pred)):\n",
    "        if abs(test[i] - pred[i]) <= 20:\n",
    "            correct += 1\n",
    "    return (correct/len(pred)) * 100"
   ]
  },
  {
   "cell_type": "code",
   "execution_count": 173,
   "metadata": {},
   "outputs": [],
   "source": [
    "models = dict()\n"
   ]
  },
  {
   "cell_type": "code",
   "execution_count": 174,
   "metadata": {},
   "outputs": [
    {
     "data": {
      "text/plain": [
       "DecisionTreeRegressor()"
      ]
     },
     "execution_count": 174,
     "metadata": {},
     "output_type": "execute_result"
    }
   ],
   "source": [
    "#Decision Tree\n",
    "from sklearn.tree import DecisionTreeRegressor\n",
    "tree = DecisionTreeRegressor()\n",
    "tree.fit(train_features, train_labels)"
   ]
  },
  {
   "cell_type": "code",
   "execution_count": 175,
   "metadata": {},
   "outputs": [
    {
     "name": "stdout",
     "output_type": "stream",
     "text": [
      "[177. 170. 116. 202. 164. 187. 164. 171. 185. 106. 158. 198. 175. 163.\n",
      " 205. 139. 162. 159. 163. 147. 158. 171. 163. 176. 184. 123.  89. 126.\n",
      " 130. 127. 141. 110. 165. 136. 132. 161. 183. 198. 168. 187. 149. 172.\n",
      " 134. 158. 200. 191. 115. 183. 201. 187. 165. 150. 157. 142. 192. 183.\n",
      " 145. 191. 140. 151. 119. 188. 129. 148. 164. 172.  56. 112. 231. 194.\n",
      " 165. 146. 165. 166. 191. 138. 176. 171. 184. 136. 196. 128. 232. 191.\n",
      " 194. 159. 213. 154. 152. 185. 163. 172. 161. 163. 222. 157. 113. 146.\n",
      " 144. 210. 172. 110. 154. 191. 164. 200. 154. 108. 135. 159. 163. 177.\n",
      " 183. 120. 156. 150. 192. 138. 161. 148. 171. 194. 218. 172. 127. 168.\n",
      " 179.  84. 205. 208. 126. 174. 141. 183. 173. 165. 148. 126. 210. 173.\n",
      " 123. 112. 200. 218. 187. 158. 140. 148. 165. 198. 194. 112.  98. 141.\n",
      " 118. 119. 112. 120. 140.  67. 151. 191. 189. 100.]\n",
      "Accuracy= 63.41463414634146%\n"
     ]
    }
   ],
   "source": [
    "pred_tree = tree.predict(test_features)\n",
    "print(pred_tree)\n",
    "print(\"Accuracy=\", str(getAccuracy(pred_tree))+\"%\")"
   ]
  },
  {
   "cell_type": "code",
   "execution_count": 176,
   "metadata": {},
   "outputs": [
    {
     "name": "stdout",
     "output_type": "stream",
     "text": [
      "---- Decision Tree Regressor - Model Evaluation ----\n",
      "Mean Absolute Error (MAE): 18.75\n",
      "Mean Squared Error (MSE): 580.9451219512196\n",
      "Root Mean Squared Error (RMSE): 24.102803196956565\n"
     ]
    }
   ],
   "source": [
    "from sklearn.metrics import mean_absolute_error as mae, mean_squared_error as mse\n",
    "print(\"---- Decision Tree Regressor - Model Evaluation ----\")\n",
    "print(\"Mean Absolute Error (MAE): {}\".format(mae(test_labels, tree.predict(test_features))))\n",
    "print(\"Mean Squared Error (MSE): {}\".format(mse(test_labels, tree.predict(test_features))))\n",
    "print(\"Root Mean Squared Error (RMSE): {}\".format(np.sqrt(mse(test_labels, tree.predict(test_features)))))"
   ]
  },
  {
   "cell_type": "code",
   "execution_count": 177,
   "metadata": {},
   "outputs": [
    {
     "data": {
      "text/plain": [
       "LinearRegression()"
      ]
     },
     "execution_count": 177,
     "metadata": {},
     "output_type": "execute_result"
    }
   ],
   "source": [
    "#Linear Regression\n",
    "from sklearn.linear_model import LinearRegression\n",
    "linreg = LinearRegression()\n",
    "linreg.fit(train_features, train_labels)"
   ]
  },
  {
   "cell_type": "code",
   "execution_count": 178,
   "metadata": {},
   "outputs": [
    {
     "name": "stdout",
     "output_type": "stream",
     "text": [
      "[143.44403496 168.41294774 114.35793141 194.34455948 164.67746515\n",
      " 171.28177045 159.8825001  178.93241864 209.56130555 228.27284733\n",
      " 156.64436995 207.04374326 192.69039736 150.50251404 161.12524019\n",
      " 138.08038481 151.87853854 161.9615419  144.61237096 164.48312905\n",
      " 157.29932854 165.45688578 165.4195153  177.666508   163.53122903\n",
      " 145.41789644 156.22920442 122.33598919 147.62295309 138.88913638\n",
      " 170.85031805 137.12949941 166.71053641 143.69665349 126.98472547\n",
      " 188.56800934 183.22193794 191.47793188 176.2326972  156.34485461\n",
      " 144.25346561 175.70442203 134.68896412 164.28864375 200.34714568\n",
      " 161.24868008 128.54221351 182.65794663 188.47741788 174.46813322\n",
      " 154.41848388 154.99612693 153.94767057 159.6143265  181.33278694\n",
      " 159.77771896 146.58699059 217.39738312 152.21217219 157.94101944\n",
      " 129.37185716 147.26849646 181.68790476 137.1447375  163.91697802\n",
      " 175.04340589 118.8544746  109.97433798 198.40518562 154.97954287\n",
      " 171.0261569  141.17300489 166.32541426 155.50850698 174.85553741\n",
      " 162.15718696 179.97547811 171.3601934  166.99544838 126.60263033\n",
      " 183.41752664 138.37703446 198.19759146 168.04746132 169.85551211\n",
      " 165.53706889 188.85018124 154.13532875 126.07212696 175.86166546\n",
      " 164.00055496 164.33031787 168.84951646 166.23990114 198.445437\n",
      " 169.91140344 142.98237893 144.65828233 145.90776382 159.89707476\n",
      " 171.31963191 137.00830609 153.70370752 216.088377   158.30742638\n",
      " 192.81865856 160.23272452 131.88095917 140.89982014 152.56380541\n",
      " 169.09311069 159.67610901 180.2059457  145.7446648  150.37633954\n",
      " 159.44568271 138.27700962 148.08964489 153.29027244 167.43412742\n",
      " 151.38326404 187.60582221 192.52930249 175.4613675  136.98964857\n",
      " 151.10203284 178.12275396 104.72302093 162.54299866 194.62889013\n",
      " 119.8590495  151.53578562 148.55304365 165.83074924 180.75488907\n",
      " 151.57932425 137.2693341  136.33293616 158.5818592  172.07087581\n",
      " 144.37313126 141.78377083 172.49911137 203.24022334 190.8518501\n",
      " 168.93217867 135.63492324 124.03448196 159.46864359 200.46623087\n",
      " 191.4388176  130.87536618 137.90709152 199.84695829 146.63786286\n",
      " 122.81553382 138.04734787 137.00901558 157.71653284 119.60124886\n",
      " 160.9496115  168.35857802 174.6747452  113.17263733]\n",
      "Accuracy= 78.65853658536585%\n"
     ]
    }
   ],
   "source": [
    "pred_lin = linreg.predict(test_features)\n",
    "print(pred_lin)\n",
    "print(\"Accuracy=\", str(getAccuracy(pred_lin))+\"%\")"
   ]
  },
  {
   "cell_type": "code",
   "execution_count": 179,
   "metadata": {},
   "outputs": [
    {
     "name": "stdout",
     "output_type": "stream",
     "text": [
      "---- Linear Regression - Model Evaluation ----\n",
      "Mean Absolute Error (MAE): 14.03452133195614\n",
      "Mean Squared Error (MSE): 401.11075154692173\n",
      "Root Mean Squared Error (RMSE): 20.02774953775191\n"
     ]
    }
   ],
   "source": [
    "print(\"---- Linear Regression - Model Evaluation ----\")\n",
    "print(\"Mean Absolute Error (MAE): {}\".format(mae(test_labels, linreg.predict(test_features))))\n",
    "print(\"Mean Squared Error (MSE): {}\".format(mse(test_labels, linreg.predict(test_features))))\n",
    "print(\"Root Mean Squared Error (RMSE): {}\".format(np.sqrt(mse(test_labels, linreg.predict(test_features)))))"
   ]
  },
  {
   "cell_type": "code",
   "execution_count": 180,
   "metadata": {},
   "outputs": [
    {
     "data": {
      "text/plain": [
       "RandomForestRegressor()"
      ]
     },
     "execution_count": 180,
     "metadata": {},
     "output_type": "execute_result"
    }
   ],
   "source": [
    "#Random Forest\n",
    "from sklearn.ensemble import RandomForestRegressor\n",
    "forest = RandomForestRegressor()\n",
    "forest.fit(train_features, train_labels)"
   ]
  },
  {
   "cell_type": "code",
   "execution_count": 181,
   "metadata": {},
   "outputs": [
    {
     "name": "stdout",
     "output_type": "stream",
     "text": [
      "[147.4  177.06  87.96 206.07 161.75 175.   159.28 182.8  197.96 101.71\n",
      " 159.6  205.62 186.55 159.23 161.41 129.77 157.83 152.46 140.98 177.82\n",
      " 160.74 174.3  169.55 179.88 170.4  144.84 156.79 108.49 148.03 134.97\n",
      " 184.69 128.51 170.78 149.54 127.55 182.45 184.3  199.41 172.37 165.86\n",
      " 128.89 179.92 135.73 181.88 201.14 168.8  119.12 186.66 192.33 173.84\n",
      " 151.73 151.76 157.05 158.5  177.69 158.54 144.83 202.42 154.66 160.21\n",
      " 131.28 153.01 164.15 131.74 167.14 175.62  90.13  85.92 214.52 163.2\n",
      " 178.33 139.86 157.68 159.44 179.16 176.89 173.86 174.31 172.82 134.74\n",
      " 184.63 117.46 198.22 170.55 186.84 164.53 175.7  154.41 132.16 189.76\n",
      " 166.44 166.96 170.83 172.02 202.75 169.47 131.2  143.97 148.44 166.\n",
      " 182.94 126.36 159.81 204.83 163.29 195.99 157.33 123.9  134.06 162.35\n",
      " 171.64 159.62 187.6  149.32 155.07 155.78 154.43 145.88 154.12 186.02\n",
      " 158.82 187.18 197.22 179.61 128.37 154.56 182.17  79.98 156.79 209.14\n",
      "  98.45 156.4  149.75 170.68 181.49 156.87 138.73 123.13 160.69 179.27\n",
      " 142.81 136.37 179.14 216.48 187.23 170.91 137.04 112.91 163.58 208.97\n",
      " 188.38 118.96 132.12 171.92 148.1  117.87 126.32 128.56 152.24 108.2\n",
      " 159.45 177.75 184.88  89.94]\n",
      "Accuracy= 79.26829268292683%\n"
     ]
    }
   ],
   "source": [
    "y_pred = forest.predict(test_features)\n",
    "print(y_pred)\n",
    "print(\"Accuracy=\", str(getAccuracy(y_pred))+\"%\")"
   ]
  },
  {
   "cell_type": "code",
   "execution_count": 182,
   "metadata": {},
   "outputs": [
    {
     "name": "stdout",
     "output_type": "stream",
     "text": [
      "---- Random Forest Regression - Model Evaluation ----\n",
      "Mean Absolute Error (MAE): 13.736341463414636\n",
      "Mean Squared Error (MSE): 335.9157109756098\n",
      "Root Mean Squared Error (RMSE): 18.32800346397855\n"
     ]
    }
   ],
   "source": [
    "print(\"---- Random Forest Regression - Model Evaluation ----\")\n",
    "print(\"Mean Absolute Error (MAE): {}\".format(mae(test_labels, forest.predict(test_features))))\n",
    "print(\"Mean Squared Error (MSE): {}\".format(mse(test_labels, forest.predict(test_features))))\n",
    "print(\"Root Mean Squared Error (RMSE): {}\".format(np.sqrt(mse(test_labels, forest.predict(test_features)))))"
   ]
  },
  {
   "cell_type": "code",
   "execution_count": 183,
   "metadata": {},
   "outputs": [
    {
     "data": {
      "text/plain": [
       "LassoCV()"
      ]
     },
     "execution_count": 183,
     "metadata": {},
     "output_type": "execute_result"
    }
   ],
   "source": [
    "#Lasso Regression\n",
    "from sklearn.linear_model import LassoCV\n",
    "lasso = LassoCV()\n",
    "# Train Model\n",
    "lasso.fit(train_features, train_labels)"
   ]
  },
  {
   "cell_type": "code",
   "execution_count": 184,
   "metadata": {},
   "outputs": [
    {
     "name": "stdout",
     "output_type": "stream",
     "text": [
      "[144.11715393 167.80216549 115.38225557 194.21637229 165.13669231\n",
      " 170.9248745  160.35755029 177.91673894 208.44571238 226.49779174\n",
      " 157.54261887 206.03287891 190.49524433 150.21361518 160.93353026\n",
      " 139.15102638 152.09466167 161.74178973 145.66859262 164.29447832\n",
      " 157.70660909 165.93664665 165.01125256 177.2700496  163.70624867\n",
      " 145.73933361 156.31915621 123.59557941 147.44052161 139.78933968\n",
      " 171.00186354 137.88927091 166.88354918 143.92652283 127.93752905\n",
      " 188.92185367 182.2766571  190.78325801 175.09513068 155.26823398\n",
      " 143.94134156 175.30048678 135.36603432 164.36570162 200.65060904\n",
      " 161.24895662 128.6533517  181.11329823 187.55451431 174.433214\n",
      " 154.05312241 154.40632778 154.17202859 159.03328573 180.49055983\n",
      " 160.88645905 147.26030069 215.81036927 152.51906202 158.7879385\n",
      " 130.48165361 148.57680426 183.29494782 138.18142027 163.59128923\n",
      " 175.73380877 120.55257573 110.35261634 197.76394241 155.11487645\n",
      " 169.51806367 141.55092403 164.01850996 154.56237315 174.90341271\n",
      " 162.50872068 179.16386445 170.81540615 168.13397993 128.2213043\n",
      " 182.33301835 137.66414503 196.68886758 168.95820475 170.36981463\n",
      " 165.60590791 187.60320388 154.91262767 127.04707457 176.2304175\n",
      " 164.72852342 165.05382049 168.03173695 167.18367569 197.21521449\n",
      " 170.99599574 144.12841477 144.80321711 146.32579453 160.51938909\n",
      " 170.06137392 137.97391607 154.62659876 215.0335675  158.95757036\n",
      " 191.15360114 161.04360335 131.94433077 140.48334061 153.1157248\n",
      " 168.38470343 159.98825025 179.54360448 146.68976572 151.19848107\n",
      " 159.59968786 138.66420982 148.75121163 153.24901766 166.957851\n",
      " 151.47858725 187.20088957 191.71569067 175.56620428 137.69943194\n",
      " 150.96972267 178.31348855 105.9232858  162.19132175 194.33028681\n",
      " 120.04205645 151.35352759 148.72089304 165.67921479 181.16488329\n",
      " 151.69039606 138.27061031 137.53157464 159.04602153 171.10623725\n",
      " 144.41110349 141.77381023 171.80031397 202.49944489 189.95473047\n",
      " 169.51097539 136.37162967 123.95596051 158.17668549 199.85018858\n",
      " 191.17267134 131.09405257 137.91828418 196.78124408 147.18479825\n",
      " 123.61126384 138.35494766 137.91268249 157.61479102 120.49256789\n",
      " 161.36704371 168.47936695 173.33724585 113.57680263]\n",
      "Accuracy= 79.26829268292683%\n"
     ]
    }
   ],
   "source": [
    "pred_lasso = lasso.predict(test_features)\n",
    "print(pred_lasso)\n",
    "print(\"Accuracy=\", str(getAccuracy(pred_lasso))+\"%\")"
   ]
  },
  {
   "cell_type": "code",
   "execution_count": 185,
   "metadata": {},
   "outputs": [
    {
     "name": "stdout",
     "output_type": "stream",
     "text": [
      "---- Lasso Regression - Model Evaluation ----\n",
      "Mean Absolute Error (MAE): 14.085097505536194\n",
      "Mean Squared Error (MSE): 398.52447920904854\n",
      "Root Mean Squared Error (RMSE): 19.963077899188004\n"
     ]
    }
   ],
   "source": [
    "print(\"---- Lasso Regression - Model Evaluation ----\")\n",
    "print(\"Mean Absolute Error (MAE): {}\".format(mae(test_labels, lasso.predict(test_features))))\n",
    "print(\"Mean Squared Error (MSE): {}\".format(mse(test_labels, lasso.predict(test_features))))\n",
    "print(\"Root Mean Squared Error (RMSE): {}\".format(np.sqrt(mse(test_labels, lasso.predict(test_features)))))"
   ]
  },
  {
   "cell_type": "code",
   "execution_count": 186,
   "metadata": {},
   "outputs": [
    {
     "name": "stderr",
     "output_type": "stream",
     "text": [
      "/home/cpriti/.local/lib/python3.8/site-packages/sklearn/neural_network/_multilayer_perceptron.py:582: ConvergenceWarning: Stochastic Optimizer: Maximum iterations (1000) reached and the optimization hasn't converged yet.\n",
      "  warnings.warn(\n"
     ]
    },
    {
     "data": {
      "text/plain": [
       "MLPRegressor(activation='logistic', max_iter=1000)"
      ]
     },
     "execution_count": 186,
     "metadata": {},
     "output_type": "execute_result"
    }
   ],
   "source": [
    "#Neural Network (MultiLayer Perceptron)\n",
    "from sklearn.neural_network import MLPRegressor\n",
    "neural_net = MLPRegressor(activation='logistic', max_iter=1000)\n",
    "# Train Model\n",
    "neural_net.fit(train_features, train_labels)"
   ]
  },
  {
   "cell_type": "code",
   "execution_count": 187,
   "metadata": {},
   "outputs": [
    {
     "name": "stdout",
     "output_type": "stream",
     "text": [
      "[144.11715393 167.80216549 115.38225557 194.21637229 165.13669231\n",
      " 170.9248745  160.35755029 177.91673894 208.44571238 226.49779174\n",
      " 157.54261887 206.03287891 190.49524433 150.21361518 160.93353026\n",
      " 139.15102638 152.09466167 161.74178973 145.66859262 164.29447832\n",
      " 157.70660909 165.93664665 165.01125256 177.2700496  163.70624867\n",
      " 145.73933361 156.31915621 123.59557941 147.44052161 139.78933968\n",
      " 171.00186354 137.88927091 166.88354918 143.92652283 127.93752905\n",
      " 188.92185367 182.2766571  190.78325801 175.09513068 155.26823398\n",
      " 143.94134156 175.30048678 135.36603432 164.36570162 200.65060904\n",
      " 161.24895662 128.6533517  181.11329823 187.55451431 174.433214\n",
      " 154.05312241 154.40632778 154.17202859 159.03328573 180.49055983\n",
      " 160.88645905 147.26030069 215.81036927 152.51906202 158.7879385\n",
      " 130.48165361 148.57680426 183.29494782 138.18142027 163.59128923\n",
      " 175.73380877 120.55257573 110.35261634 197.76394241 155.11487645\n",
      " 169.51806367 141.55092403 164.01850996 154.56237315 174.90341271\n",
      " 162.50872068 179.16386445 170.81540615 168.13397993 128.2213043\n",
      " 182.33301835 137.66414503 196.68886758 168.95820475 170.36981463\n",
      " 165.60590791 187.60320388 154.91262767 127.04707457 176.2304175\n",
      " 164.72852342 165.05382049 168.03173695 167.18367569 197.21521449\n",
      " 170.99599574 144.12841477 144.80321711 146.32579453 160.51938909\n",
      " 170.06137392 137.97391607 154.62659876 215.0335675  158.95757036\n",
      " 191.15360114 161.04360335 131.94433077 140.48334061 153.1157248\n",
      " 168.38470343 159.98825025 179.54360448 146.68976572 151.19848107\n",
      " 159.59968786 138.66420982 148.75121163 153.24901766 166.957851\n",
      " 151.47858725 187.20088957 191.71569067 175.56620428 137.69943194\n",
      " 150.96972267 178.31348855 105.9232858  162.19132175 194.33028681\n",
      " 120.04205645 151.35352759 148.72089304 165.67921479 181.16488329\n",
      " 151.69039606 138.27061031 137.53157464 159.04602153 171.10623725\n",
      " 144.41110349 141.77381023 171.80031397 202.49944489 189.95473047\n",
      " 169.51097539 136.37162967 123.95596051 158.17668549 199.85018858\n",
      " 191.17267134 131.09405257 137.91828418 196.78124408 147.18479825\n",
      " 123.61126384 138.35494766 137.91268249 157.61479102 120.49256789\n",
      " 161.36704371 168.47936695 173.33724585 113.57680263]\n",
      "Accuracy= 79.26829268292683%\n"
     ]
    }
   ],
   "source": [
    "pred_MLP = lasso.predict(test_features)\n",
    "print(pred_MLP)\n",
    "print(\"Accuracy=\", str(getAccuracy(pred_MLP))+\"%\")"
   ]
  },
  {
   "cell_type": "code",
   "execution_count": 154,
   "metadata": {},
   "outputs": [
    {
     "name": "stdout",
     "output_type": "stream",
     "text": [
      "---- Neural Networks Regression - Model Evaluation ----\n",
      "Mean Absolute Error (MAE): 20.229951869187232\n",
      "Mean Squared Error (MSE): 642.2442648622338\n",
      "Root Mean Squared Error (RMSE): 25.342538642808336\n"
     ]
    }
   ],
   "source": [
    "print(\"---- Neural Networks Regression - Model Evaluation ----\")\n",
    "print(\"Mean Absolute Error (MAE): {}\".format(mae(test_labels, neural_net.predict(test_features))))\n",
    "print(\"Mean Squared Error (MSE): {}\".format(mse(test_labels, neural_net.predict(test_features))))\n",
    "print(\"Root Mean Squared Error (RMSE): {}\".format(np.sqrt(mse(test_labels, neural_net.predict(test_features)))))"
   ]
  },
  {
   "cell_type": "code",
   "execution_count": 190,
   "metadata": {},
   "outputs": [],
   "source": [
    "def predict_score(user_input,model=forest):\n",
    "    user_input = np.array([user_input])\n",
    "    pred = model.predict(user_input)\n",
    "    return int(round(pred[0]))"
   ]
  },
  {
   "cell_type": "code",
   "execution_count": 191,
   "metadata": {},
   "outputs": [
    {
     "name": "stdout",
     "output_type": "stream",
     "text": [
      "Predicted Score : 154\n"
     ]
    }
   ],
   "source": [
    "score = predict_score([1, 7, 10, 1, 1, 23, 99.0, 7.5])\n",
    "print(f'Predicted Score : {score}')"
   ]
  }
 ],
 "metadata": {
  "kernelspec": {
   "display_name": "Python 3",
   "language": "python",
   "name": "python3"
  },
  "language_info": {
   "codemirror_mode": {
    "name": "ipython",
    "version": 3
   },
   "file_extension": ".py",
   "mimetype": "text/x-python",
   "name": "python",
   "nbconvert_exporter": "python",
   "pygments_lexer": "ipython3",
   "version": "3.8.5"
  }
 },
 "nbformat": 4,
 "nbformat_minor": 2
}
